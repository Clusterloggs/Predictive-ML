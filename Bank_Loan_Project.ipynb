{
 "cells": [
  {
   "cell_type": "code",
   "execution_count": 1,
   "id": "f225d470",
   "metadata": {},
   "outputs": [
    {
     "name": "stdout",
     "output_type": "stream",
     "text": [
      "Requirement already satisfied: mysql-connector-python in c:\\users\\user\\anaconda3\\lib\\site-packages (8.3.0)\n",
      "Note: you may need to restart the kernel to use updated packages.\n"
     ]
    }
   ],
   "source": [
    "pip install mysql-connector-python"
   ]
  },
  {
   "cell_type": "code",
   "execution_count": 2,
   "id": "da16c09c",
   "metadata": {
    "scrolled": true
   },
   "outputs": [
    {
     "name": "stdout",
     "output_type": "stream",
     "text": [
      "Requirement already satisfied: pandas in c:\\users\\user\\anaconda3\\lib\\site-packages (2.0.3)\n",
      "Requirement already satisfied: sqlalchemy in c:\\users\\user\\anaconda3\\lib\\site-packages (1.4.39)\n",
      "Requirement already satisfied: python-dateutil>=2.8.2 in c:\\users\\user\\anaconda3\\lib\\site-packages (from pandas) (2.8.2)\n",
      "Requirement already satisfied: pytz>=2020.1 in c:\\users\\user\\anaconda3\\lib\\site-packages (from pandas) (2023.3.post1)\n",
      "Requirement already satisfied: tzdata>=2022.1 in c:\\users\\user\\anaconda3\\lib\\site-packages (from pandas) (2023.3)\n",
      "Requirement already satisfied: numpy>=1.21.0 in c:\\users\\user\\anaconda3\\lib\\site-packages (from pandas) (1.24.3)\n",
      "Requirement already satisfied: greenlet!=0.4.17 in c:\\users\\user\\anaconda3\\lib\\site-packages (from sqlalchemy) (2.0.1)\n",
      "Requirement already satisfied: six>=1.5 in c:\\users\\user\\anaconda3\\lib\\site-packages (from python-dateutil>=2.8.2->pandas) (1.16.0)\n",
      "Note: you may need to restart the kernel to use updated packages.\n"
     ]
    }
   ],
   "source": [
    "pip install pandas sqlalchemy"
   ]
  },
  {
   "cell_type": "code",
   "execution_count": 3,
   "id": "602b4969",
   "metadata": {},
   "outputs": [
    {
     "name": "stdout",
     "output_type": "stream",
     "text": [
      "Requirement already satisfied: mysql-connector-python in c:\\users\\user\\anaconda3\\lib\\site-packages (8.3.0)\n",
      "Note: you may need to restart the kernel to use updated packages.\n"
     ]
    }
   ],
   "source": [
    "pip install mysql-connector-python"
   ]
  },
  {
   "cell_type": "markdown",
   "id": "4ab56e81",
   "metadata": {},
   "source": [
    "# 1. Set up the MySQL connection enviroment"
   ]
  },
  {
   "cell_type": "code",
   "execution_count": 4,
   "id": "fbe39831",
   "metadata": {},
   "outputs": [],
   "source": [
    "import pandas as pd\n",
    "from sqlalchemy import create_engine\n",
    "\n",
    "# Define connection parameters\n",
    "username = 'root'\n",
    "password = 'password'\n",
    "hostname = 'localhost'\n",
    "database_name = 'bank'\n",
    "\n",
    "# MySQL connection string using mysql-connector-python\n",
    "connection_parameter = f'mysql+mysqlconnector://{username}:{password}@{hostname}/{database_name}'\n",
    "\n",
    "# Create a SQLAlchemy engine\n",
    "engine = create_engine(connection_parameter)\n",
    "\n",
    "# SQL query to select data from a table\n",
    "sequel_query = 'SELECT * FROM loan_data'\n",
    "\n",
    "# Load data into a DataFrame\n",
    "bank_df = pd.read_sql(sequel_query, engine)"
   ]
  },
  {
   "cell_type": "markdown",
   "id": "6eed548a",
   "metadata": {},
   "source": [
    "### 2. Display top 5 rows of the dataset"
   ]
  },
  {
   "cell_type": "code",
   "execution_count": 5,
   "id": "3b8b9fe4",
   "metadata": {
    "scrolled": true
   },
   "outputs": [
    {
     "data": {
      "text/html": [
       "<div>\n",
       "<style scoped>\n",
       "    .dataframe tbody tr th:only-of-type {\n",
       "        vertical-align: middle;\n",
       "    }\n",
       "\n",
       "    .dataframe tbody tr th {\n",
       "        vertical-align: top;\n",
       "    }\n",
       "\n",
       "    .dataframe thead th {\n",
       "        text-align: right;\n",
       "    }\n",
       "</style>\n",
       "<table border=\"1\" class=\"dataframe\">\n",
       "  <thead>\n",
       "    <tr style=\"text-align: right;\">\n",
       "      <th></th>\n",
       "      <th>Loan_ID</th>\n",
       "      <th>Gender</th>\n",
       "      <th>Married</th>\n",
       "      <th>Dependents</th>\n",
       "      <th>Education</th>\n",
       "      <th>Self_Employed</th>\n",
       "      <th>ApplicantIncome</th>\n",
       "      <th>CoapplicantIncome</th>\n",
       "      <th>LoanAmount</th>\n",
       "      <th>Loan_Amount_Term</th>\n",
       "      <th>Credit_History</th>\n",
       "      <th>Property_Area</th>\n",
       "      <th>Loan_Status</th>\n",
       "    </tr>\n",
       "  </thead>\n",
       "  <tbody>\n",
       "    <tr>\n",
       "      <th>552</th>\n",
       "      <td>LP001005</td>\n",
       "      <td>Male</td>\n",
       "      <td>Yes</td>\n",
       "      <td>0</td>\n",
       "      <td>Graduate</td>\n",
       "      <td>Yes</td>\n",
       "      <td>3000</td>\n",
       "      <td>0</td>\n",
       "      <td>66</td>\n",
       "      <td>360</td>\n",
       "      <td>1</td>\n",
       "      <td>Urban</td>\n",
       "      <td>Y</td>\n",
       "    </tr>\n",
       "    <tr>\n",
       "      <th>713</th>\n",
       "      <td>LP001644</td>\n",
       "      <td></td>\n",
       "      <td>Yes</td>\n",
       "      <td>0</td>\n",
       "      <td>Graduate</td>\n",
       "      <td>Yes</td>\n",
       "      <td>674</td>\n",
       "      <td>5296</td>\n",
       "      <td>168</td>\n",
       "      <td>360</td>\n",
       "      <td>1</td>\n",
       "      <td>Rural</td>\n",
       "      <td>Y</td>\n",
       "    </tr>\n",
       "    <tr>\n",
       "      <th>376</th>\n",
       "      <td>LP002361</td>\n",
       "      <td>Male</td>\n",
       "      <td>Yes</td>\n",
       "      <td>0</td>\n",
       "      <td>Graduate</td>\n",
       "      <td>No</td>\n",
       "      <td>1820</td>\n",
       "      <td>1719</td>\n",
       "      <td>100</td>\n",
       "      <td>360</td>\n",
       "      <td>1</td>\n",
       "      <td>Urban</td>\n",
       "      <td>Y</td>\n",
       "    </tr>\n",
       "    <tr>\n",
       "      <th>626</th>\n",
       "      <td>LP001289</td>\n",
       "      <td>Male</td>\n",
       "      <td>No</td>\n",
       "      <td>0</td>\n",
       "      <td>Graduate</td>\n",
       "      <td>No</td>\n",
       "      <td>8566</td>\n",
       "      <td>0</td>\n",
       "      <td>210</td>\n",
       "      <td>360</td>\n",
       "      <td>1</td>\n",
       "      <td>Urban</td>\n",
       "      <td>Y</td>\n",
       "    </tr>\n",
       "    <tr>\n",
       "      <th>1138</th>\n",
       "      <td>LP002297</td>\n",
       "      <td>Male</td>\n",
       "      <td>No</td>\n",
       "      <td>0</td>\n",
       "      <td>Graduate</td>\n",
       "      <td>No</td>\n",
       "      <td>2500</td>\n",
       "      <td>20000</td>\n",
       "      <td>103</td>\n",
       "      <td>360</td>\n",
       "      <td>1</td>\n",
       "      <td>Semiurban</td>\n",
       "      <td>Y</td>\n",
       "    </tr>\n",
       "    <tr>\n",
       "      <th>671</th>\n",
       "      <td>LP001504</td>\n",
       "      <td>Male</td>\n",
       "      <td>No</td>\n",
       "      <td>0</td>\n",
       "      <td>Graduate</td>\n",
       "      <td>Yes</td>\n",
       "      <td>6950</td>\n",
       "      <td>0</td>\n",
       "      <td>175</td>\n",
       "      <td>180</td>\n",
       "      <td>1</td>\n",
       "      <td>Semiurban</td>\n",
       "      <td>Y</td>\n",
       "    </tr>\n",
       "    <tr>\n",
       "      <th>644</th>\n",
       "      <td>LP001384</td>\n",
       "      <td>Male</td>\n",
       "      <td>Yes</td>\n",
       "      <td>3</td>\n",
       "      <td>Not Graduate</td>\n",
       "      <td>No</td>\n",
       "      <td>2071</td>\n",
       "      <td>754</td>\n",
       "      <td>94</td>\n",
       "      <td>480</td>\n",
       "      <td>1</td>\n",
       "      <td>Semiurban</td>\n",
       "      <td>Y</td>\n",
       "    </tr>\n",
       "    <tr>\n",
       "      <th>176</th>\n",
       "      <td>LP001674</td>\n",
       "      <td>Male</td>\n",
       "      <td>Yes</td>\n",
       "      <td>1</td>\n",
       "      <td>Not Graduate</td>\n",
       "      <td>No</td>\n",
       "      <td>2600</td>\n",
       "      <td>2500</td>\n",
       "      <td>90</td>\n",
       "      <td>360</td>\n",
       "      <td>1</td>\n",
       "      <td>Semiurban</td>\n",
       "      <td>Y</td>\n",
       "    </tr>\n",
       "    <tr>\n",
       "      <th>136</th>\n",
       "      <td>LP001535</td>\n",
       "      <td>Male</td>\n",
       "      <td>No</td>\n",
       "      <td>0</td>\n",
       "      <td>Graduate</td>\n",
       "      <td>No</td>\n",
       "      <td>3254</td>\n",
       "      <td>0</td>\n",
       "      <td>50</td>\n",
       "      <td>360</td>\n",
       "      <td>1</td>\n",
       "      <td>Urban</td>\n",
       "      <td>Y</td>\n",
       "    </tr>\n",
       "    <tr>\n",
       "      <th>475</th>\n",
       "      <td>LP002731</td>\n",
       "      <td>Female</td>\n",
       "      <td>No</td>\n",
       "      <td>0</td>\n",
       "      <td>Not Graduate</td>\n",
       "      <td>Yes</td>\n",
       "      <td>18165</td>\n",
       "      <td>0</td>\n",
       "      <td>125</td>\n",
       "      <td>360</td>\n",
       "      <td>1</td>\n",
       "      <td>Urban</td>\n",
       "      <td>Y</td>\n",
       "    </tr>\n",
       "  </tbody>\n",
       "</table>\n",
       "</div>"
      ],
      "text/plain": [
       "       Loan_ID  Gender Married  Dependents     Education Self_Employed  \\\n",
       "552   LP001005    Male     Yes           0      Graduate           Yes   \n",
       "713   LP001644             Yes           0      Graduate           Yes   \n",
       "376   LP002361    Male     Yes           0      Graduate            No   \n",
       "626   LP001289    Male      No           0      Graduate            No   \n",
       "1138  LP002297    Male      No           0      Graduate            No   \n",
       "671   LP001504    Male      No           0      Graduate           Yes   \n",
       "644   LP001384    Male     Yes           3  Not Graduate            No   \n",
       "176   LP001674    Male     Yes           1  Not Graduate            No   \n",
       "136   LP001535    Male      No           0      Graduate            No   \n",
       "475   LP002731  Female      No           0  Not Graduate           Yes   \n",
       "\n",
       "      ApplicantIncome  CoapplicantIncome LoanAmount  Loan_Amount_Term  \\\n",
       "552              3000                  0         66               360   \n",
       "713               674               5296        168               360   \n",
       "376              1820               1719        100               360   \n",
       "626              8566                  0        210               360   \n",
       "1138             2500              20000        103               360   \n",
       "671              6950                  0        175               180   \n",
       "644              2071                754         94               480   \n",
       "176              2600               2500         90               360   \n",
       "136              3254                  0         50               360   \n",
       "475             18165                  0        125               360   \n",
       "\n",
       "      Credit_History Property_Area Loan_Status  \n",
       "552                1         Urban           Y  \n",
       "713                1         Rural           Y  \n",
       "376                1         Urban           Y  \n",
       "626                1         Urban           Y  \n",
       "1138               1     Semiurban           Y  \n",
       "671                1     Semiurban           Y  \n",
       "644                1     Semiurban           Y  \n",
       "176                1     Semiurban           Y  \n",
       "136                1         Urban           Y  \n",
       "475                1         Urban           Y  "
      ]
     },
     "execution_count": 5,
     "metadata": {},
     "output_type": "execute_result"
    }
   ],
   "source": [
    "bank_df.sample(10)"
   ]
  },
  {
   "cell_type": "code",
   "execution_count": 6,
   "id": "7f9c134f",
   "metadata": {},
   "outputs": [
    {
     "name": "stdout",
     "output_type": "stream",
     "text": [
      "These are the columns in the dataset Index(['Loan_ID', 'Gender', 'Married', 'Dependents', 'Education',\n",
      "       'Self_Employed', 'ApplicantIncome', 'CoapplicantIncome', 'LoanAmount',\n",
      "       'Loan_Amount_Term', 'Credit_History', 'Property_Area', 'Loan_Status'],\n",
      "      dtype='object')\n"
     ]
    }
   ],
   "source": [
    "# Check the columns name in the dataframe (bank_df)\n",
    "print(f\"These are the columns in the dataset {bank_df.columns}\")"
   ]
  },
  {
   "cell_type": "markdown",
   "id": "b2a22f2d",
   "metadata": {},
   "source": [
    "Loan_ID : Unique Loan ID\n",
    "\n",
    "Gender : Male/ Female\n",
    "\n",
    "Married : Applicant married (Y/N)\n",
    "\n",
    "Dependents : Number of dependents\n",
    "\n",
    "Education : Applicant Education (Graduate/ Under Graduate)\n",
    "\n",
    "Self_Employed : Self employed (Y/N)\n",
    "\n",
    "ApplicantIncome : Applicant income\n",
    "\n",
    "CoapplicantIncome : Coapplicant income\n",
    "\n",
    "LoanAmount : Loan amount in thousands of dollars\n",
    "\n",
    "Loan_Amount_Term : Term of loan in months\n",
    "\n",
    "Credit_History : Credit history meets guidelines yes or no\n",
    "\n",
    "Property_Area : Urban/ Semi Urban/ Rural\n",
    "\n",
    "Loan_Status : Loan approved (Y/N) this is the target variable"
   ]
  },
  {
   "cell_type": "code",
   "execution_count": 7,
   "id": "1641e64e",
   "metadata": {},
   "outputs": [
    {
     "name": "stdout",
     "output_type": "stream",
     "text": [
      "The dataset has 1142 colunms and 13 rows\n"
     ]
    }
   ],
   "source": [
    "#Check the shape of the dataset(i.e total number of row and columns)\n",
    "data_shape = bank_df.shape\n",
    "print(f\"The dataset has {data_shape[0]} colunms and {data_shape[1]} rows\")"
   ]
  },
  {
   "cell_type": "code",
   "execution_count": 8,
   "id": "b6338c6d",
   "metadata": {},
   "outputs": [
    {
     "name": "stdout",
     "output_type": "stream",
     "text": [
      "<class 'pandas.core.frame.DataFrame'>\n",
      "RangeIndex: 1142 entries, 0 to 1141\n",
      "Data columns (total 13 columns):\n",
      " #   Column             Non-Null Count  Dtype \n",
      "---  ------             --------------  ----- \n",
      " 0   Loan_ID            1142 non-null   object\n",
      " 1   Gender             1142 non-null   object\n",
      " 2   Married            1142 non-null   object\n",
      " 3   Dependents         1142 non-null   int64 \n",
      " 4   Education          1142 non-null   object\n",
      " 5   Self_Employed      1142 non-null   object\n",
      " 6   ApplicantIncome    1142 non-null   int64 \n",
      " 7   CoapplicantIncome  1142 non-null   int64 \n",
      " 8   LoanAmount         1142 non-null   object\n",
      " 9   Loan_Amount_Term   1142 non-null   int64 \n",
      " 10  Credit_History     1142 non-null   int64 \n",
      " 11  Property_Area      1142 non-null   object\n",
      " 12  Loan_Status        1142 non-null   object\n",
      "dtypes: int64(5), object(8)\n",
      "memory usage: 116.1+ KB\n"
     ]
    }
   ],
   "source": [
    "# Check for data type and number of null value\n",
    "bank_df.info()"
   ]
  },
  {
   "cell_type": "code",
   "execution_count": 9,
   "id": "fb3e2f31",
   "metadata": {},
   "outputs": [
    {
     "name": "stdout",
     "output_type": "stream",
     "text": [
      "<class 'pandas.core.frame.DataFrame'>\n",
      "RangeIndex: 1142 entries, 0 to 1141\n",
      "Data columns (total 13 columns):\n",
      " #   Column             Non-Null Count  Dtype \n",
      "---  ------             --------------  ----- \n",
      " 0   Loan_ID            1142 non-null   object\n",
      " 1   Gender             1142 non-null   object\n",
      " 2   Married            1142 non-null   object\n",
      " 3   Dependents         1142 non-null   int64 \n",
      " 4   Education          1142 non-null   object\n",
      " 5   Self_Employed      1142 non-null   object\n",
      " 6   ApplicantIncome    1142 non-null   int64 \n",
      " 7   CoapplicantIncome  1142 non-null   int64 \n",
      " 8   LoanAmount         1101 non-null   Int64 \n",
      " 9   Loan_Amount_Term   1142 non-null   int64 \n",
      " 10  Credit_History     1142 non-null   int64 \n",
      " 11  Property_Area      1142 non-null   object\n",
      " 12  Loan_Status        1142 non-null   object\n",
      "dtypes: Int64(1), int64(5), object(7)\n",
      "memory usage: 117.2+ KB\n"
     ]
    }
   ],
   "source": [
    "# Convert LoanAmount column to numeric type with missing values coerced to <NA>\n",
    "bank_df['LoanAmount'] = pd.to_numeric(bank_df['LoanAmount'], errors='coerce').astype('Int64')\n",
    "bank_df.info()"
   ]
  },
  {
   "cell_type": "markdown",
   "id": "ebf3b7b5",
   "metadata": {},
   "source": [
    "# 2. Handling Missing Values"
   ]
  },
  {
   "cell_type": "code",
   "execution_count": 10,
   "id": "71981594",
   "metadata": {},
   "outputs": [
    {
     "name": "stdout",
     "output_type": "stream",
     "text": [
      "Behold! The Mystical Distribution of Missing Values:\n",
      "----------------------------------------------------\n",
      "Column Name             |   Missing Percentage   \n",
      "-----------------------------------------------\n",
      "Loan_ID                 |                  0.0%\n",
      "Gender                  |                  2.1%\n",
      "Married                 |                 0.26%\n",
      "Dependents              |                  0.0%\n",
      "Education               |                  0.0%\n",
      "Self_Employed           |                 4.64%\n",
      "ApplicantIncome         |                  0.0%\n",
      "CoapplicantIncome       |                  0.0%\n",
      "LoanAmount              |                 3.59%\n",
      "Loan_Amount_Term        |                  0.0%\n",
      "Credit_History          |                  0.0%\n",
      "Property_Area           |                  0.0%\n",
      "Loan_Status             |                  0.0%\n",
      "----------------------------------------------------\n"
     ]
    }
   ],
   "source": [
    "# Replace empty strings with NaN\n",
    "bank_df.replace('', pd.NA, inplace=True)\n",
    "\n",
    "def missing_values(dataframe):\n",
    "    # Calculate the percentage of missing values in each column\n",
    "    missing_values = (dataframe.isna().sum() * 100 / len(dataframe)).round(2)\n",
    "\n",
    "    print(\"Behold! The Mystical Distribution of Missing Values:\")\n",
    "    print(\"----------------------------------------------------\")\n",
    "    print(\"Column Name             |   Missing Percentage   \")\n",
    "    print(\"-----------------------------------------------\")\n",
    "\n",
    "    # Iterate over each column and its corresponding missing percentage\n",
    "    for column, percentage in missing_values.items():\n",
    "        print(f\"{column.ljust(23)} | {str(percentage).rjust(20)}%\")\n",
    "\n",
    "    print(\"----------------------------------------------------\")\n",
    "\n",
    "missing_values(bank_df)"
   ]
  },
  {
   "cell_type": "code",
   "execution_count": 11,
   "id": "0dde76db",
   "metadata": {
    "scrolled": false
   },
   "outputs": [],
   "source": [
    "# Substitute missing values with the mode for categorical columns and the mean for continuous colunms.\n",
    "\n",
    "# Categorical Columns\n",
    "bank_df['Gender'] = bank_df['Gender'].fillna(bank_df['Gender'].mode()[0])\n",
    "bank_df['Married'] = bank_df['Married'].fillna(bank_df['Married'].mode()[0])\n",
    "bank_df['Self_Employed'] = bank_df['Self_Employed'].fillna(bank_df['Self_Employed'].mode()[0])\n",
    "\n",
    "# Continious column\n",
    "bank_df['LoanAmount'] = bank_df['LoanAmount'].fillna(bank_df['LoanAmount'].mean().round())"
   ]
  },
  {
   "cell_type": "code",
   "execution_count": 12,
   "id": "c837a62e",
   "metadata": {},
   "outputs": [
    {
     "name": "stdout",
     "output_type": "stream",
     "text": [
      "Behold! The Mystical Distribution of Missing Values:\n",
      "----------------------------------------------------\n",
      "Column Name             |   Missing Percentage   \n",
      "-----------------------------------------------\n",
      "Loan_ID                 |                  0.0%\n",
      "Gender                  |                  0.0%\n",
      "Married                 |                  0.0%\n",
      "Dependents              |                  0.0%\n",
      "Education               |                  0.0%\n",
      "Self_Employed           |                  0.0%\n",
      "ApplicantIncome         |                  0.0%\n",
      "CoapplicantIncome       |                  0.0%\n",
      "LoanAmount              |                  0.0%\n",
      "Loan_Amount_Term        |                  0.0%\n",
      "Credit_History          |                  0.0%\n",
      "Property_Area           |                  0.0%\n",
      "Loan_Status             |                  0.0%\n",
      "----------------------------------------------------\n"
     ]
    }
   ],
   "source": [
    "missing_values(bank_df)"
   ]
  },
  {
   "cell_type": "code",
   "execution_count": 13,
   "id": "c45bb97f",
   "metadata": {},
   "outputs": [
    {
     "data": {
      "text/html": [
       "<div>\n",
       "<style scoped>\n",
       "    .dataframe tbody tr th:only-of-type {\n",
       "        vertical-align: middle;\n",
       "    }\n",
       "\n",
       "    .dataframe tbody tr th {\n",
       "        vertical-align: top;\n",
       "    }\n",
       "\n",
       "    .dataframe thead th {\n",
       "        text-align: right;\n",
       "    }\n",
       "</style>\n",
       "<table border=\"1\" class=\"dataframe\">\n",
       "  <thead>\n",
       "    <tr style=\"text-align: right;\">\n",
       "      <th></th>\n",
       "      <th>Gender</th>\n",
       "      <th>Married</th>\n",
       "      <th>Dependents</th>\n",
       "      <th>Education</th>\n",
       "      <th>Self_Employed</th>\n",
       "      <th>ApplicantIncome</th>\n",
       "      <th>CoapplicantIncome</th>\n",
       "      <th>LoanAmount</th>\n",
       "      <th>Loan_Amount_Term</th>\n",
       "      <th>Credit_History</th>\n",
       "      <th>Property_Area</th>\n",
       "      <th>Loan_Status</th>\n",
       "    </tr>\n",
       "  </thead>\n",
       "  <tbody>\n",
       "    <tr>\n",
       "      <th>0</th>\n",
       "      <td>Male</td>\n",
       "      <td>No</td>\n",
       "      <td>0</td>\n",
       "      <td>Graduate</td>\n",
       "      <td>No</td>\n",
       "      <td>5849</td>\n",
       "      <td>0</td>\n",
       "      <td>146</td>\n",
       "      <td>360</td>\n",
       "      <td>1</td>\n",
       "      <td>Urban</td>\n",
       "      <td>Y</td>\n",
       "    </tr>\n",
       "    <tr>\n",
       "      <th>1</th>\n",
       "      <td>Male</td>\n",
       "      <td>Yes</td>\n",
       "      <td>1</td>\n",
       "      <td>Graduate</td>\n",
       "      <td>No</td>\n",
       "      <td>4583</td>\n",
       "      <td>1508</td>\n",
       "      <td>128</td>\n",
       "      <td>360</td>\n",
       "      <td>1</td>\n",
       "      <td>Rural</td>\n",
       "      <td>N</td>\n",
       "    </tr>\n",
       "    <tr>\n",
       "      <th>2</th>\n",
       "      <td>Male</td>\n",
       "      <td>Yes</td>\n",
       "      <td>0</td>\n",
       "      <td>Graduate</td>\n",
       "      <td>Yes</td>\n",
       "      <td>3000</td>\n",
       "      <td>0</td>\n",
       "      <td>66</td>\n",
       "      <td>360</td>\n",
       "      <td>1</td>\n",
       "      <td>Urban</td>\n",
       "      <td>Y</td>\n",
       "    </tr>\n",
       "    <tr>\n",
       "      <th>3</th>\n",
       "      <td>Male</td>\n",
       "      <td>Yes</td>\n",
       "      <td>0</td>\n",
       "      <td>Not Graduate</td>\n",
       "      <td>No</td>\n",
       "      <td>2583</td>\n",
       "      <td>2358</td>\n",
       "      <td>120</td>\n",
       "      <td>360</td>\n",
       "      <td>1</td>\n",
       "      <td>Urban</td>\n",
       "      <td>Y</td>\n",
       "    </tr>\n",
       "    <tr>\n",
       "      <th>4</th>\n",
       "      <td>Male</td>\n",
       "      <td>No</td>\n",
       "      <td>0</td>\n",
       "      <td>Graduate</td>\n",
       "      <td>No</td>\n",
       "      <td>6000</td>\n",
       "      <td>0</td>\n",
       "      <td>141</td>\n",
       "      <td>360</td>\n",
       "      <td>1</td>\n",
       "      <td>Urban</td>\n",
       "      <td>Y</td>\n",
       "    </tr>\n",
       "  </tbody>\n",
       "</table>\n",
       "</div>"
      ],
      "text/plain": [
       "  Gender Married  Dependents     Education Self_Employed  ApplicantIncome  \\\n",
       "0   Male      No           0      Graduate            No             5849   \n",
       "1   Male     Yes           1      Graduate            No             4583   \n",
       "2   Male     Yes           0      Graduate           Yes             3000   \n",
       "3   Male     Yes           0  Not Graduate            No             2583   \n",
       "4   Male      No           0      Graduate            No             6000   \n",
       "\n",
       "   CoapplicantIncome  LoanAmount  Loan_Amount_Term  Credit_History  \\\n",
       "0                  0         146               360               1   \n",
       "1               1508         128               360               1   \n",
       "2                  0          66               360               1   \n",
       "3               2358         120               360               1   \n",
       "4                  0         141               360               1   \n",
       "\n",
       "  Property_Area Loan_Status  \n",
       "0         Urban           Y  \n",
       "1         Rural           N  \n",
       "2         Urban           Y  \n",
       "3         Urban           Y  \n",
       "4         Urban           Y  "
      ]
     },
     "execution_count": 13,
     "metadata": {},
     "output_type": "execute_result"
    }
   ],
   "source": [
    "bank_df2 = bank_df.drop('Loan_ID', axis =1)\n",
    "bank_df2.head()"
   ]
  },
  {
   "cell_type": "markdown",
   "id": "f27ccb14",
   "metadata": {},
   "source": [
    "# 3. Handling categorical columns"
   ]
  },
  {
   "cell_type": "code",
   "execution_count": 14,
   "id": "b583e04d",
   "metadata": {},
   "outputs": [],
   "source": [
    "# from 0 - 1 we gonna represent with each category\n",
    "bank_df2['Gender'] = bank_df['Gender'].map({'Male':1,'Female':0}).astype('int')\n",
    "bank_df2['Married'] = bank_df['Married'].map({'Yes':1,'No':0}).astype('int')\n",
    "bank_df2['Education'] = bank_df['Education'].map({'Graduate':1,'Not Graduate':0}).astype('int')\n",
    "bank_df2['Self_Employed'] = bank_df['Self_Employed'].map({'Yes':1,'No':0}).astype('int')\n",
    "bank_df2['Property_Area'] = bank_df['Property_Area'].map({'Rural':0,'Semiurban':1,'Urban':2}).astype('int')\n",
    "bank_df2['Loan_Status'] = bank_df['Loan_Status'].map({'Y':1,'N':0}).astype('int')"
   ]
  },
  {
   "cell_type": "code",
   "execution_count": 15,
   "id": "dadd7b7b",
   "metadata": {},
   "outputs": [
    {
     "data": {
      "text/html": [
       "<div>\n",
       "<style scoped>\n",
       "    .dataframe tbody tr th:only-of-type {\n",
       "        vertical-align: middle;\n",
       "    }\n",
       "\n",
       "    .dataframe tbody tr th {\n",
       "        vertical-align: top;\n",
       "    }\n",
       "\n",
       "    .dataframe thead th {\n",
       "        text-align: right;\n",
       "    }\n",
       "</style>\n",
       "<table border=\"1\" class=\"dataframe\">\n",
       "  <thead>\n",
       "    <tr style=\"text-align: right;\">\n",
       "      <th></th>\n",
       "      <th>Gender</th>\n",
       "      <th>Married</th>\n",
       "      <th>Dependents</th>\n",
       "      <th>Education</th>\n",
       "      <th>Self_Employed</th>\n",
       "      <th>ApplicantIncome</th>\n",
       "      <th>CoapplicantIncome</th>\n",
       "      <th>LoanAmount</th>\n",
       "      <th>Loan_Amount_Term</th>\n",
       "      <th>Credit_History</th>\n",
       "      <th>Property_Area</th>\n",
       "      <th>Loan_Status</th>\n",
       "    </tr>\n",
       "  </thead>\n",
       "  <tbody>\n",
       "    <tr>\n",
       "      <th>623</th>\n",
       "      <td>1</td>\n",
       "      <td>1</td>\n",
       "      <td>1</td>\n",
       "      <td>1</td>\n",
       "      <td>0</td>\n",
       "      <td>3988</td>\n",
       "      <td>0</td>\n",
       "      <td>50</td>\n",
       "      <td>240</td>\n",
       "      <td>1</td>\n",
       "      <td>2</td>\n",
       "      <td>1</td>\n",
       "    </tr>\n",
       "    <tr>\n",
       "      <th>871</th>\n",
       "      <td>1</td>\n",
       "      <td>1</td>\n",
       "      <td>2</td>\n",
       "      <td>1</td>\n",
       "      <td>1</td>\n",
       "      <td>9323</td>\n",
       "      <td>7873</td>\n",
       "      <td>380</td>\n",
       "      <td>300</td>\n",
       "      <td>1</td>\n",
       "      <td>0</td>\n",
       "      <td>1</td>\n",
       "    </tr>\n",
       "    <tr>\n",
       "      <th>1000</th>\n",
       "      <td>1</td>\n",
       "      <td>1</td>\n",
       "      <td>1</td>\n",
       "      <td>1</td>\n",
       "      <td>1</td>\n",
       "      <td>2895</td>\n",
       "      <td>0</td>\n",
       "      <td>95</td>\n",
       "      <td>360</td>\n",
       "      <td>1</td>\n",
       "      <td>1</td>\n",
       "      <td>1</td>\n",
       "    </tr>\n",
       "    <tr>\n",
       "      <th>513</th>\n",
       "      <td>1</td>\n",
       "      <td>1</td>\n",
       "      <td>2</td>\n",
       "      <td>1</td>\n",
       "      <td>0</td>\n",
       "      <td>3159</td>\n",
       "      <td>461</td>\n",
       "      <td>108</td>\n",
       "      <td>84</td>\n",
       "      <td>1</td>\n",
       "      <td>2</td>\n",
       "      <td>1</td>\n",
       "    </tr>\n",
       "    <tr>\n",
       "      <th>775</th>\n",
       "      <td>1</td>\n",
       "      <td>0</td>\n",
       "      <td>0</td>\n",
       "      <td>1</td>\n",
       "      <td>0</td>\n",
       "      <td>2060</td>\n",
       "      <td>2209</td>\n",
       "      <td>134</td>\n",
       "      <td>360</td>\n",
       "      <td>1</td>\n",
       "      <td>1</td>\n",
       "      <td>1</td>\n",
       "    </tr>\n",
       "    <tr>\n",
       "      <th>635</th>\n",
       "      <td>1</td>\n",
       "      <td>1</td>\n",
       "      <td>0</td>\n",
       "      <td>0</td>\n",
       "      <td>0</td>\n",
       "      <td>4188</td>\n",
       "      <td>0</td>\n",
       "      <td>115</td>\n",
       "      <td>180</td>\n",
       "      <td>1</td>\n",
       "      <td>1</td>\n",
       "      <td>1</td>\n",
       "    </tr>\n",
       "    <tr>\n",
       "      <th>1075</th>\n",
       "      <td>0</td>\n",
       "      <td>1</td>\n",
       "      <td>0</td>\n",
       "      <td>1</td>\n",
       "      <td>0</td>\n",
       "      <td>3166</td>\n",
       "      <td>0</td>\n",
       "      <td>36</td>\n",
       "      <td>360</td>\n",
       "      <td>1</td>\n",
       "      <td>1</td>\n",
       "      <td>1</td>\n",
       "    </tr>\n",
       "  </tbody>\n",
       "</table>\n",
       "</div>"
      ],
      "text/plain": [
       "      Gender  Married  Dependents  Education  Self_Employed  ApplicantIncome  \\\n",
       "623        1        1           1          1              0             3988   \n",
       "871        1        1           2          1              1             9323   \n",
       "1000       1        1           1          1              1             2895   \n",
       "513        1        1           2          1              0             3159   \n",
       "775        1        0           0          1              0             2060   \n",
       "635        1        1           0          0              0             4188   \n",
       "1075       0        1           0          1              0             3166   \n",
       "\n",
       "      CoapplicantIncome  LoanAmount  Loan_Amount_Term  Credit_History  \\\n",
       "623                   0          50               240               1   \n",
       "871                7873         380               300               1   \n",
       "1000                  0          95               360               1   \n",
       "513                 461         108                84               1   \n",
       "775                2209         134               360               1   \n",
       "635                   0         115               180               1   \n",
       "1075                  0          36               360               1   \n",
       "\n",
       "      Property_Area  Loan_Status  \n",
       "623               2            1  \n",
       "871               0            1  \n",
       "1000              1            1  \n",
       "513               2            1  \n",
       "775               1            1  \n",
       "635               1            1  \n",
       "1075              1            1  "
      ]
     },
     "execution_count": 15,
     "metadata": {},
     "output_type": "execute_result"
    }
   ],
   "source": [
    "# have a look on the data\n",
    "bank_df2.sample(7)"
   ]
  },
  {
   "cell_type": "markdown",
   "id": "f38d02cf",
   "metadata": {},
   "source": [
    "### Store Feature Matrix In X And Response (Target) In Vector y"
   ]
  },
  {
   "cell_type": "code",
   "execution_count": 16,
   "id": "506c1c06",
   "metadata": {
    "scrolled": true
   },
   "outputs": [
    {
     "data": {
      "text/html": [
       "<div>\n",
       "<style scoped>\n",
       "    .dataframe tbody tr th:only-of-type {\n",
       "        vertical-align: middle;\n",
       "    }\n",
       "\n",
       "    .dataframe tbody tr th {\n",
       "        vertical-align: top;\n",
       "    }\n",
       "\n",
       "    .dataframe thead th {\n",
       "        text-align: right;\n",
       "    }\n",
       "</style>\n",
       "<table border=\"1\" class=\"dataframe\">\n",
       "  <thead>\n",
       "    <tr style=\"text-align: right;\">\n",
       "      <th></th>\n",
       "      <th>Gender</th>\n",
       "      <th>Married</th>\n",
       "      <th>Dependents</th>\n",
       "      <th>Education</th>\n",
       "      <th>Self_Employed</th>\n",
       "      <th>ApplicantIncome</th>\n",
       "      <th>CoapplicantIncome</th>\n",
       "      <th>LoanAmount</th>\n",
       "      <th>Loan_Amount_Term</th>\n",
       "      <th>Credit_History</th>\n",
       "      <th>Property_Area</th>\n",
       "    </tr>\n",
       "  </thead>\n",
       "  <tbody>\n",
       "    <tr>\n",
       "      <th>0</th>\n",
       "      <td>1</td>\n",
       "      <td>0</td>\n",
       "      <td>0</td>\n",
       "      <td>1</td>\n",
       "      <td>0</td>\n",
       "      <td>5849</td>\n",
       "      <td>0</td>\n",
       "      <td>146</td>\n",
       "      <td>360</td>\n",
       "      <td>1</td>\n",
       "      <td>2</td>\n",
       "    </tr>\n",
       "    <tr>\n",
       "      <th>1</th>\n",
       "      <td>1</td>\n",
       "      <td>1</td>\n",
       "      <td>1</td>\n",
       "      <td>1</td>\n",
       "      <td>0</td>\n",
       "      <td>4583</td>\n",
       "      <td>1508</td>\n",
       "      <td>128</td>\n",
       "      <td>360</td>\n",
       "      <td>1</td>\n",
       "      <td>0</td>\n",
       "    </tr>\n",
       "    <tr>\n",
       "      <th>2</th>\n",
       "      <td>1</td>\n",
       "      <td>1</td>\n",
       "      <td>0</td>\n",
       "      <td>1</td>\n",
       "      <td>1</td>\n",
       "      <td>3000</td>\n",
       "      <td>0</td>\n",
       "      <td>66</td>\n",
       "      <td>360</td>\n",
       "      <td>1</td>\n",
       "      <td>2</td>\n",
       "    </tr>\n",
       "    <tr>\n",
       "      <th>3</th>\n",
       "      <td>1</td>\n",
       "      <td>1</td>\n",
       "      <td>0</td>\n",
       "      <td>0</td>\n",
       "      <td>0</td>\n",
       "      <td>2583</td>\n",
       "      <td>2358</td>\n",
       "      <td>120</td>\n",
       "      <td>360</td>\n",
       "      <td>1</td>\n",
       "      <td>2</td>\n",
       "    </tr>\n",
       "    <tr>\n",
       "      <th>4</th>\n",
       "      <td>1</td>\n",
       "      <td>0</td>\n",
       "      <td>0</td>\n",
       "      <td>1</td>\n",
       "      <td>0</td>\n",
       "      <td>6000</td>\n",
       "      <td>0</td>\n",
       "      <td>141</td>\n",
       "      <td>360</td>\n",
       "      <td>1</td>\n",
       "      <td>2</td>\n",
       "    </tr>\n",
       "  </tbody>\n",
       "</table>\n",
       "</div>"
      ],
      "text/plain": [
       "   Gender  Married  Dependents  Education  Self_Employed  ApplicantIncome  \\\n",
       "0       1        0           0          1              0             5849   \n",
       "1       1        1           1          1              0             4583   \n",
       "2       1        1           0          1              1             3000   \n",
       "3       1        1           0          0              0             2583   \n",
       "4       1        0           0          1              0             6000   \n",
       "\n",
       "   CoapplicantIncome  LoanAmount  Loan_Amount_Term  Credit_History  \\\n",
       "0                  0         146               360               1   \n",
       "1               1508         128               360               1   \n",
       "2                  0          66               360               1   \n",
       "3               2358         120               360               1   \n",
       "4                  0         141               360               1   \n",
       "\n",
       "   Property_Area  \n",
       "0              2  \n",
       "1              0  \n",
       "2              2  \n",
       "3              2  \n",
       "4              2  "
      ]
     },
     "execution_count": 16,
     "metadata": {},
     "output_type": "execute_result"
    }
   ],
   "source": [
    "X = bank_df2.drop('Loan_Status', axis =1)\n",
    "X.head()"
   ]
  },
  {
   "cell_type": "code",
   "execution_count": 17,
   "id": "55298909",
   "metadata": {},
   "outputs": [
    {
     "data": {
      "text/plain": [
       "0       1\n",
       "1       0\n",
       "2       1\n",
       "3       1\n",
       "4       1\n",
       "       ..\n",
       "1137    0\n",
       "1138    1\n",
       "1139    1\n",
       "1140    0\n",
       "1141    1\n",
       "Name: Loan_Status, Length: 1142, dtype: int32"
      ]
     },
     "execution_count": 17,
     "metadata": {},
     "output_type": "execute_result"
    }
   ],
   "source": [
    "y = bank_df2['Loan_Status']\n",
    "y"
   ]
  },
  {
   "cell_type": "markdown",
   "id": "bd6115fd",
   "metadata": {},
   "source": [
    "**Feautre Scaling**"
   ]
  },
  {
   "cell_type": "code",
   "execution_count": 18,
   "id": "5b99154b",
   "metadata": {},
   "outputs": [],
   "source": [
    "# List of columns to be scale\n",
    "scale_cols = ['ApplicantIncome','CoapplicantIncome','LoanAmount','Loan_Amount_Term']"
   ]
  },
  {
   "cell_type": "code",
   "execution_count": 19,
   "id": "5ccf6553",
   "metadata": {},
   "outputs": [],
   "source": [
    "from sklearn.preprocessing import StandardScaler\n",
    "\n",
    "# Initialize StandardScaler object\n",
    "sc = StandardScaler()\n",
    "\n",
    "# Scale the selected columns in the feature matrix X\n",
    "X[scale_cols]=sc.fit_transform(X[scale_cols])"
   ]
  },
  {
   "cell_type": "code",
   "execution_count": 20,
   "id": "279920fa",
   "metadata": {},
   "outputs": [
    {
     "data": {
      "text/html": [
       "<div>\n",
       "<style scoped>\n",
       "    .dataframe tbody tr th:only-of-type {\n",
       "        vertical-align: middle;\n",
       "    }\n",
       "\n",
       "    .dataframe tbody tr th {\n",
       "        vertical-align: top;\n",
       "    }\n",
       "\n",
       "    .dataframe thead th {\n",
       "        text-align: right;\n",
       "    }\n",
       "</style>\n",
       "<table border=\"1\" class=\"dataframe\">\n",
       "  <thead>\n",
       "    <tr style=\"text-align: right;\">\n",
       "      <th></th>\n",
       "      <th>Gender</th>\n",
       "      <th>Married</th>\n",
       "      <th>Dependents</th>\n",
       "      <th>Education</th>\n",
       "      <th>Self_Employed</th>\n",
       "      <th>ApplicantIncome</th>\n",
       "      <th>CoapplicantIncome</th>\n",
       "      <th>LoanAmount</th>\n",
       "      <th>Loan_Amount_Term</th>\n",
       "      <th>Credit_History</th>\n",
       "      <th>Property_Area</th>\n",
       "    </tr>\n",
       "  </thead>\n",
       "  <tbody>\n",
       "    <tr>\n",
       "      <th>0</th>\n",
       "      <td>1</td>\n",
       "      <td>0</td>\n",
       "      <td>0</td>\n",
       "      <td>1</td>\n",
       "      <td>0</td>\n",
       "      <td>0.055798</td>\n",
       "      <td>-0.608095</td>\n",
       "      <td>-0.002535</td>\n",
       "      <td>0.277710</td>\n",
       "      <td>1</td>\n",
       "      <td>2</td>\n",
       "    </tr>\n",
       "    <tr>\n",
       "      <th>1</th>\n",
       "      <td>1</td>\n",
       "      <td>1</td>\n",
       "      <td>1</td>\n",
       "      <td>1</td>\n",
       "      <td>0</td>\n",
       "      <td>-0.145921</td>\n",
       "      <td>-0.011970</td>\n",
       "      <td>-0.217867</td>\n",
       "      <td>0.277710</td>\n",
       "      <td>1</td>\n",
       "      <td>0</td>\n",
       "    </tr>\n",
       "    <tr>\n",
       "      <th>2</th>\n",
       "      <td>1</td>\n",
       "      <td>1</td>\n",
       "      <td>0</td>\n",
       "      <td>1</td>\n",
       "      <td>1</td>\n",
       "      <td>-0.398149</td>\n",
       "      <td>-0.608095</td>\n",
       "      <td>-0.959566</td>\n",
       "      <td>0.277710</td>\n",
       "      <td>1</td>\n",
       "      <td>2</td>\n",
       "    </tr>\n",
       "    <tr>\n",
       "      <th>3</th>\n",
       "      <td>1</td>\n",
       "      <td>1</td>\n",
       "      <td>0</td>\n",
       "      <td>0</td>\n",
       "      <td>0</td>\n",
       "      <td>-0.464592</td>\n",
       "      <td>0.324043</td>\n",
       "      <td>-0.313570</td>\n",
       "      <td>0.277710</td>\n",
       "      <td>1</td>\n",
       "      <td>2</td>\n",
       "    </tr>\n",
       "    <tr>\n",
       "      <th>4</th>\n",
       "      <td>1</td>\n",
       "      <td>0</td>\n",
       "      <td>0</td>\n",
       "      <td>1</td>\n",
       "      <td>0</td>\n",
       "      <td>0.079858</td>\n",
       "      <td>-0.608095</td>\n",
       "      <td>-0.062349</td>\n",
       "      <td>0.277710</td>\n",
       "      <td>1</td>\n",
       "      <td>2</td>\n",
       "    </tr>\n",
       "    <tr>\n",
       "      <th>...</th>\n",
       "      <td>...</td>\n",
       "      <td>...</td>\n",
       "      <td>...</td>\n",
       "      <td>...</td>\n",
       "      <td>...</td>\n",
       "      <td>...</td>\n",
       "      <td>...</td>\n",
       "      <td>...</td>\n",
       "      <td>...</td>\n",
       "      <td>...</td>\n",
       "      <td>...</td>\n",
       "    </tr>\n",
       "    <tr>\n",
       "      <th>1137</th>\n",
       "      <td>1</td>\n",
       "      <td>0</td>\n",
       "      <td>0</td>\n",
       "      <td>0</td>\n",
       "      <td>0</td>\n",
       "      <td>-0.437187</td>\n",
       "      <td>-0.608095</td>\n",
       "      <td>-0.971529</td>\n",
       "      <td>-0.650157</td>\n",
       "      <td>1</td>\n",
       "      <td>0</td>\n",
       "    </tr>\n",
       "    <tr>\n",
       "      <th>1138</th>\n",
       "      <td>1</td>\n",
       "      <td>0</td>\n",
       "      <td>0</td>\n",
       "      <td>1</td>\n",
       "      <td>0</td>\n",
       "      <td>-0.477817</td>\n",
       "      <td>7.298081</td>\n",
       "      <td>-0.516939</td>\n",
       "      <td>0.277710</td>\n",
       "      <td>1</td>\n",
       "      <td>1</td>\n",
       "    </tr>\n",
       "    <tr>\n",
       "      <th>1139</th>\n",
       "      <td>0</td>\n",
       "      <td>0</td>\n",
       "      <td>0</td>\n",
       "      <td>0</td>\n",
       "      <td>0</td>\n",
       "      <td>-0.563380</td>\n",
       "      <td>-0.608095</td>\n",
       "      <td>-1.115084</td>\n",
       "      <td>0.277710</td>\n",
       "      <td>1</td>\n",
       "      <td>1</td>\n",
       "    </tr>\n",
       "    <tr>\n",
       "      <th>1140</th>\n",
       "      <td>0</td>\n",
       "      <td>0</td>\n",
       "      <td>0</td>\n",
       "      <td>1</td>\n",
       "      <td>1</td>\n",
       "      <td>0.309460</td>\n",
       "      <td>-0.608095</td>\n",
       "      <td>0.571684</td>\n",
       "      <td>0.277710</td>\n",
       "      <td>1</td>\n",
       "      <td>0</td>\n",
       "    </tr>\n",
       "    <tr>\n",
       "      <th>1141</th>\n",
       "      <td>0</td>\n",
       "      <td>0</td>\n",
       "      <td>0</td>\n",
       "      <td>1</td>\n",
       "      <td>0</td>\n",
       "      <td>-0.151657</td>\n",
       "      <td>-0.608095</td>\n",
       "      <td>-0.373385</td>\n",
       "      <td>0.277710</td>\n",
       "      <td>1</td>\n",
       "      <td>1</td>\n",
       "    </tr>\n",
       "  </tbody>\n",
       "</table>\n",
       "<p>1142 rows × 11 columns</p>\n",
       "</div>"
      ],
      "text/plain": [
       "      Gender  Married  Dependents  Education  Self_Employed  ApplicantIncome  \\\n",
       "0          1        0           0          1              0         0.055798   \n",
       "1          1        1           1          1              0        -0.145921   \n",
       "2          1        1           0          1              1        -0.398149   \n",
       "3          1        1           0          0              0        -0.464592   \n",
       "4          1        0           0          1              0         0.079858   \n",
       "...      ...      ...         ...        ...            ...              ...   \n",
       "1137       1        0           0          0              0        -0.437187   \n",
       "1138       1        0           0          1              0        -0.477817   \n",
       "1139       0        0           0          0              0        -0.563380   \n",
       "1140       0        0           0          1              1         0.309460   \n",
       "1141       0        0           0          1              0        -0.151657   \n",
       "\n",
       "      CoapplicantIncome  LoanAmount  Loan_Amount_Term  Credit_History  \\\n",
       "0             -0.608095   -0.002535          0.277710               1   \n",
       "1             -0.011970   -0.217867          0.277710               1   \n",
       "2             -0.608095   -0.959566          0.277710               1   \n",
       "3              0.324043   -0.313570          0.277710               1   \n",
       "4             -0.608095   -0.062349          0.277710               1   \n",
       "...                 ...         ...               ...             ...   \n",
       "1137          -0.608095   -0.971529         -0.650157               1   \n",
       "1138           7.298081   -0.516939          0.277710               1   \n",
       "1139          -0.608095   -1.115084          0.277710               1   \n",
       "1140          -0.608095    0.571684          0.277710               1   \n",
       "1141          -0.608095   -0.373385          0.277710               1   \n",
       "\n",
       "      Property_Area  \n",
       "0                 2  \n",
       "1                 0  \n",
       "2                 2  \n",
       "3                 2  \n",
       "4                 2  \n",
       "...             ...  \n",
       "1137              0  \n",
       "1138              1  \n",
       "1139              1  \n",
       "1140              0  \n",
       "1141              1  \n",
       "\n",
       "[1142 rows x 11 columns]"
      ]
     },
     "execution_count": 20,
     "metadata": {},
     "output_type": "execute_result"
    }
   ],
   "source": [
    "X"
   ]
  },
  {
   "cell_type": "markdown",
   "id": "5e2ec954",
   "metadata": {},
   "source": [
    "10. Splitting The Dataset Into The Training Set And Test Set & Applying K-Fold Cross Validation"
   ]
  },
  {
   "cell_type": "code",
   "execution_count": 21,
   "id": "c8e6d465",
   "metadata": {},
   "outputs": [],
   "source": [
    "# Import necessary libraries for model evaluation\n",
    "from sklearn.model_selection import train_test_split, cross_val_score\n",
    "from sklearn.metrics import accuracy_score\n",
    "import numpy as np"
   ]
  },
  {
   "cell_type": "code",
   "execution_count": 22,
   "id": "7371457d",
   "metadata": {},
   "outputs": [],
   "source": [
    "# Create an empty dictionary to store model evaluation results\n",
    "model_df ={}\n",
    "def model_val(model, X, y):\n",
    "    \"\"\"\n",
    "    Train and evaluate a machine learning model.\n",
    "    \n",
    "    Parameters:\n",
    "        model: Machine learning model object\n",
    "            The model to be trained and evaluated.\n",
    "        X: array-like, shape (n_samples, n_features)\n",
    "            The feature matrix.\n",
    "        y: array-like, shape (n_samples,)\n",
    "            The target values.\n",
    "            \n",
    "    Returns:\n",
    "        None\n",
    "    \"\"\"\n",
    "    # Split the data into training and testing sets\n",
    "    X_train, X_test, y_train, y_test = train_test_split(\n",
    "        X, y, test_size = 0.20, random_state = 47)\n",
    "    \n",
    "    # Train the model\n",
    "    model.fit(X_train, y_train)\n",
    "    # Make predictions on the test set\n",
    "    y_pred = model.predict(X_test)\n",
    "    \n",
    "    # Calculate and print the accuracy of the model\n",
    "    print(f\"{model} accuracy is {accuracy_score(y_test,y_pred)}\")\n",
    "    \n",
    "    # Perform cross-validation and calculate the average score\n",
    "    score = cross_val_score(model,X,y,cv =5)\n",
    "    # Print the average cross-validation score\n",
    "    print(f\"{model} Avg cross val score is{np.mean(score)}\")\n",
    "    \n",
    "    # Store the model's average cross-validation score in the model dictionary\n",
    "    model_df[model] = round(np.mean(score)*100,2)\n",
    "    "
   ]
  },
  {
   "cell_type": "markdown",
   "id": "d93dddda",
   "metadata": {},
   "source": [
    "**Logistic Regression**"
   ]
  },
  {
   "cell_type": "code",
   "execution_count": 23,
   "id": "50e85292",
   "metadata": {},
   "outputs": [
    {
     "name": "stdout",
     "output_type": "stream",
     "text": [
      "LogisticRegression() accuracy is 0.7816593886462883\n",
      "LogisticRegression() Avg cross val score is0.81087106412319\n"
     ]
    }
   ],
   "source": [
    "from sklearn.linear_model import LogisticRegression\n",
    "model = LogisticRegression()\n",
    "model_val(model, X,y)"
   ]
  },
  {
   "cell_type": "markdown",
   "id": "8013ec1f",
   "metadata": {},
   "source": [
    "**SVC**"
   ]
  },
  {
   "cell_type": "code",
   "execution_count": 24,
   "id": "3d7f75d5",
   "metadata": {},
   "outputs": [
    {
     "name": "stdout",
     "output_type": "stream",
     "text": [
      "SVC() accuracy is 0.8078602620087336\n",
      "SVC() Avg cross val score is0.8292614724584386\n"
     ]
    }
   ],
   "source": [
    "from sklearn import svm\n",
    "model =svm.SVC()\n",
    "model_val(model,X,y)"
   ]
  },
  {
   "cell_type": "markdown",
   "id": "ce9208ce",
   "metadata": {},
   "source": [
    "**Decision Tree Classifier**"
   ]
  },
  {
   "cell_type": "code",
   "execution_count": 25,
   "id": "714aa331",
   "metadata": {},
   "outputs": [
    {
     "name": "stdout",
     "output_type": "stream",
     "text": [
      "DecisionTreeClassifier() accuracy is 0.9519650655021834\n",
      "DecisionTreeClassifier() Avg cross val score is0.9973760821267141\n"
     ]
    }
   ],
   "source": [
    "from sklearn.tree import DecisionTreeClassifier\n",
    "model = DecisionTreeClassifier()\n",
    "model_val(model,X,y)"
   ]
  },
  {
   "cell_type": "markdown",
   "id": "dec524d6",
   "metadata": {},
   "source": [
    "**Random Forest Classifier**"
   ]
  },
  {
   "cell_type": "code",
   "execution_count": 26,
   "id": "ef3806f2",
   "metadata": {},
   "outputs": [
    {
     "name": "stdout",
     "output_type": "stream",
     "text": [
      "RandomForestClassifier() accuracy is 0.9694323144104804\n",
      "RandomForestClassifier() Avg cross val score is0.9973760821267141\n"
     ]
    }
   ],
   "source": [
    "from sklearn.ensemble import RandomForestClassifier\n",
    "model = RandomForestClassifier()\n",
    "model_val(model,X,y)"
   ]
  },
  {
   "cell_type": "markdown",
   "id": "45da220d",
   "metadata": {},
   "source": [
    "**Gradient Boosting Classifier**"
   ]
  },
  {
   "cell_type": "code",
   "execution_count": 27,
   "id": "0c6ff6fe",
   "metadata": {},
   "outputs": [
    {
     "name": "stdout",
     "output_type": "stream",
     "text": [
      "GradientBoostingClassifier() accuracy is 0.8427947598253275\n",
      "GradientBoostingClassifier() Avg cross val score is0.8677928445568067\n"
     ]
    }
   ],
   "source": [
    "from sklearn.ensemble import GradientBoostingClassifier\n",
    "model = GradientBoostingClassifier()\n",
    "model_val(model,X,y)"
   ]
  },
  {
   "cell_type": "markdown",
   "id": "d43e918c",
   "metadata": {},
   "source": [
    "**Hyperparameter Tuning**"
   ]
  },
  {
   "cell_type": "code",
   "execution_count": 28,
   "id": "249a64a5",
   "metadata": {},
   "outputs": [],
   "source": [
    "from sklearn.model_selection import RandomizedSearchCV"
   ]
  },
  {
   "cell_type": "markdown",
   "id": "434bde32",
   "metadata": {},
   "source": [
    "**Logistic Regression**"
   ]
  },
  {
   "cell_type": "code",
   "execution_count": 29,
   "id": "5c3fa3a7",
   "metadata": {},
   "outputs": [],
   "source": [
    "# Define a grid of hyperparameters for logistic regression\n",
    "log_reg_grid={\"C\":np.logspace(-4,4,20), # Regularization parameter values ranging from 10^-4 to 10^4\n",
    "             \"solver\":['liblinear']} # Optimization algorithm for logistic regression"
   ]
  },
  {
   "cell_type": "code",
   "execution_count": 30,
   "id": "66d22cdf",
   "metadata": {},
   "outputs": [],
   "source": [
    "# Randomized search for hyperparameter tuning with logistic regression\n",
    "rs_log_reg=RandomizedSearchCV(LogisticRegression(),\n",
    "                   param_distributions=log_reg_grid,\n",
    "                  n_iter=20,cv=5,verbose=True)"
   ]
  },
  {
   "cell_type": "code",
   "execution_count": 31,
   "id": "4b630e87",
   "metadata": {},
   "outputs": [
    {
     "name": "stdout",
     "output_type": "stream",
     "text": [
      "Fitting 5 folds for each of 20 candidates, totalling 100 fits\n"
     ]
    },
    {
     "data": {
      "text/html": [
       "<style>#sk-container-id-1 {color: black;}#sk-container-id-1 pre{padding: 0;}#sk-container-id-1 div.sk-toggleable {background-color: white;}#sk-container-id-1 label.sk-toggleable__label {cursor: pointer;display: block;width: 100%;margin-bottom: 0;padding: 0.3em;box-sizing: border-box;text-align: center;}#sk-container-id-1 label.sk-toggleable__label-arrow:before {content: \"▸\";float: left;margin-right: 0.25em;color: #696969;}#sk-container-id-1 label.sk-toggleable__label-arrow:hover:before {color: black;}#sk-container-id-1 div.sk-estimator:hover label.sk-toggleable__label-arrow:before {color: black;}#sk-container-id-1 div.sk-toggleable__content {max-height: 0;max-width: 0;overflow: hidden;text-align: left;background-color: #f0f8ff;}#sk-container-id-1 div.sk-toggleable__content pre {margin: 0.2em;color: black;border-radius: 0.25em;background-color: #f0f8ff;}#sk-container-id-1 input.sk-toggleable__control:checked~div.sk-toggleable__content {max-height: 200px;max-width: 100%;overflow: auto;}#sk-container-id-1 input.sk-toggleable__control:checked~label.sk-toggleable__label-arrow:before {content: \"▾\";}#sk-container-id-1 div.sk-estimator input.sk-toggleable__control:checked~label.sk-toggleable__label {background-color: #d4ebff;}#sk-container-id-1 div.sk-label input.sk-toggleable__control:checked~label.sk-toggleable__label {background-color: #d4ebff;}#sk-container-id-1 input.sk-hidden--visually {border: 0;clip: rect(1px 1px 1px 1px);clip: rect(1px, 1px, 1px, 1px);height: 1px;margin: -1px;overflow: hidden;padding: 0;position: absolute;width: 1px;}#sk-container-id-1 div.sk-estimator {font-family: monospace;background-color: #f0f8ff;border: 1px dotted black;border-radius: 0.25em;box-sizing: border-box;margin-bottom: 0.5em;}#sk-container-id-1 div.sk-estimator:hover {background-color: #d4ebff;}#sk-container-id-1 div.sk-parallel-item::after {content: \"\";width: 100%;border-bottom: 1px solid gray;flex-grow: 1;}#sk-container-id-1 div.sk-label:hover label.sk-toggleable__label {background-color: #d4ebff;}#sk-container-id-1 div.sk-serial::before {content: \"\";position: absolute;border-left: 1px solid gray;box-sizing: border-box;top: 0;bottom: 0;left: 50%;z-index: 0;}#sk-container-id-1 div.sk-serial {display: flex;flex-direction: column;align-items: center;background-color: white;padding-right: 0.2em;padding-left: 0.2em;position: relative;}#sk-container-id-1 div.sk-item {position: relative;z-index: 1;}#sk-container-id-1 div.sk-parallel {display: flex;align-items: stretch;justify-content: center;background-color: white;position: relative;}#sk-container-id-1 div.sk-item::before, #sk-container-id-1 div.sk-parallel-item::before {content: \"\";position: absolute;border-left: 1px solid gray;box-sizing: border-box;top: 0;bottom: 0;left: 50%;z-index: -1;}#sk-container-id-1 div.sk-parallel-item {display: flex;flex-direction: column;z-index: 1;position: relative;background-color: white;}#sk-container-id-1 div.sk-parallel-item:first-child::after {align-self: flex-end;width: 50%;}#sk-container-id-1 div.sk-parallel-item:last-child::after {align-self: flex-start;width: 50%;}#sk-container-id-1 div.sk-parallel-item:only-child::after {width: 0;}#sk-container-id-1 div.sk-dashed-wrapped {border: 1px dashed gray;margin: 0 0.4em 0.5em 0.4em;box-sizing: border-box;padding-bottom: 0.4em;background-color: white;}#sk-container-id-1 div.sk-label label {font-family: monospace;font-weight: bold;display: inline-block;line-height: 1.2em;}#sk-container-id-1 div.sk-label-container {text-align: center;}#sk-container-id-1 div.sk-container {/* jupyter's `normalize.less` sets `[hidden] { display: none; }` but bootstrap.min.css set `[hidden] { display: none !important; }` so we also need the `!important` here to be able to override the default hidden behavior on the sphinx rendered scikit-learn.org. See: https://github.com/scikit-learn/scikit-learn/issues/21755 */display: inline-block !important;position: relative;}#sk-container-id-1 div.sk-text-repr-fallback {display: none;}</style><div id=\"sk-container-id-1\" class=\"sk-top-container\"><div class=\"sk-text-repr-fallback\"><pre>RandomizedSearchCV(cv=5, estimator=LogisticRegression(), n_iter=20,\n",
       "                   param_distributions={&#x27;C&#x27;: array([1.00000000e-04, 2.63665090e-04, 6.95192796e-04, 1.83298071e-03,\n",
       "       4.83293024e-03, 1.27427499e-02, 3.35981829e-02, 8.85866790e-02,\n",
       "       2.33572147e-01, 6.15848211e-01, 1.62377674e+00, 4.28133240e+00,\n",
       "       1.12883789e+01, 2.97635144e+01, 7.84759970e+01, 2.06913808e+02,\n",
       "       5.45559478e+02, 1.43844989e+03, 3.79269019e+03, 1.00000000e+04]),\n",
       "                                        &#x27;solver&#x27;: [&#x27;liblinear&#x27;]},\n",
       "                   verbose=True)</pre><b>In a Jupyter environment, please rerun this cell to show the HTML representation or trust the notebook. <br />On GitHub, the HTML representation is unable to render, please try loading this page with nbviewer.org.</b></div><div class=\"sk-container\" hidden><div class=\"sk-item sk-dashed-wrapped\"><div class=\"sk-label-container\"><div class=\"sk-label sk-toggleable\"><input class=\"sk-toggleable__control sk-hidden--visually\" id=\"sk-estimator-id-1\" type=\"checkbox\" ><label for=\"sk-estimator-id-1\" class=\"sk-toggleable__label sk-toggleable__label-arrow\">RandomizedSearchCV</label><div class=\"sk-toggleable__content\"><pre>RandomizedSearchCV(cv=5, estimator=LogisticRegression(), n_iter=20,\n",
       "                   param_distributions={&#x27;C&#x27;: array([1.00000000e-04, 2.63665090e-04, 6.95192796e-04, 1.83298071e-03,\n",
       "       4.83293024e-03, 1.27427499e-02, 3.35981829e-02, 8.85866790e-02,\n",
       "       2.33572147e-01, 6.15848211e-01, 1.62377674e+00, 4.28133240e+00,\n",
       "       1.12883789e+01, 2.97635144e+01, 7.84759970e+01, 2.06913808e+02,\n",
       "       5.45559478e+02, 1.43844989e+03, 3.79269019e+03, 1.00000000e+04]),\n",
       "                                        &#x27;solver&#x27;: [&#x27;liblinear&#x27;]},\n",
       "                   verbose=True)</pre></div></div></div><div class=\"sk-parallel\"><div class=\"sk-parallel-item\"><div class=\"sk-item\"><div class=\"sk-label-container\"><div class=\"sk-label sk-toggleable\"><input class=\"sk-toggleable__control sk-hidden--visually\" id=\"sk-estimator-id-2\" type=\"checkbox\" ><label for=\"sk-estimator-id-2\" class=\"sk-toggleable__label sk-toggleable__label-arrow\">estimator: LogisticRegression</label><div class=\"sk-toggleable__content\"><pre>LogisticRegression()</pre></div></div></div><div class=\"sk-serial\"><div class=\"sk-item\"><div class=\"sk-estimator sk-toggleable\"><input class=\"sk-toggleable__control sk-hidden--visually\" id=\"sk-estimator-id-3\" type=\"checkbox\" ><label for=\"sk-estimator-id-3\" class=\"sk-toggleable__label sk-toggleable__label-arrow\">LogisticRegression</label><div class=\"sk-toggleable__content\"><pre>LogisticRegression()</pre></div></div></div></div></div></div></div></div></div></div>"
      ],
      "text/plain": [
       "RandomizedSearchCV(cv=5, estimator=LogisticRegression(), n_iter=20,\n",
       "                   param_distributions={'C': array([1.00000000e-04, 2.63665090e-04, 6.95192796e-04, 1.83298071e-03,\n",
       "       4.83293024e-03, 1.27427499e-02, 3.35981829e-02, 8.85866790e-02,\n",
       "       2.33572147e-01, 6.15848211e-01, 1.62377674e+00, 4.28133240e+00,\n",
       "       1.12883789e+01, 2.97635144e+01, 7.84759970e+01, 2.06913808e+02,\n",
       "       5.45559478e+02, 1.43844989e+03, 3.79269019e+03, 1.00000000e+04]),\n",
       "                                        'solver': ['liblinear']},\n",
       "                   verbose=True)"
      ]
     },
     "execution_count": 31,
     "metadata": {},
     "output_type": "execute_result"
    }
   ],
   "source": [
    "rs_log_reg.fit(X,y)"
   ]
  },
  {
   "cell_type": "code",
   "execution_count": 32,
   "id": "f5b5fe42",
   "metadata": {},
   "outputs": [
    {
     "data": {
      "text/plain": [
       "0.81087106412319"
      ]
     },
     "execution_count": 32,
     "metadata": {},
     "output_type": "execute_result"
    }
   ],
   "source": [
    "rs_log_reg.best_score_"
   ]
  },
  {
   "cell_type": "code",
   "execution_count": 33,
   "id": "804c0dcd",
   "metadata": {},
   "outputs": [
    {
     "data": {
      "text/plain": [
       "{'solver': 'liblinear', 'C': 0.23357214690901212}"
      ]
     },
     "execution_count": 33,
     "metadata": {},
     "output_type": "execute_result"
    }
   ],
   "source": [
    "rs_log_reg.best_params_"
   ]
  },
  {
   "cell_type": "markdown",
   "id": "863f775f",
   "metadata": {},
   "source": [
    "**SVC**"
   ]
  },
  {
   "cell_type": "code",
   "execution_count": 34,
   "id": "b4144517",
   "metadata": {},
   "outputs": [],
   "source": [
    "svc_grid = {'C':[0.25,0.50,0.75,1],\"kernel\":[\"linear\"]}"
   ]
  },
  {
   "cell_type": "code",
   "execution_count": 35,
   "id": "93bc9d06",
   "metadata": {},
   "outputs": [],
   "source": [
    "rs_svc=RandomizedSearchCV(svm.SVC(),\n",
    "                  param_distributions=svc_grid,\n",
    "                   cv=6,\n",
    "                   n_iter=20,\n",
    "                  verbose=True)"
   ]
  },
  {
   "cell_type": "code",
   "execution_count": 36,
   "id": "1afe899a",
   "metadata": {},
   "outputs": [
    {
     "name": "stderr",
     "output_type": "stream",
     "text": [
      "C:\\Users\\USER\\anaconda3\\Lib\\site-packages\\sklearn\\model_selection\\_search.py:307: UserWarning: The total space of parameters 4 is smaller than n_iter=20. Running 4 iterations. For exhaustive searches, use GridSearchCV.\n",
      "  warnings.warn(\n"
     ]
    },
    {
     "name": "stdout",
     "output_type": "stream",
     "text": [
      "Fitting 6 folds for each of 4 candidates, totalling 24 fits\n"
     ]
    },
    {
     "data": {
      "text/html": [
       "<style>#sk-container-id-2 {color: black;}#sk-container-id-2 pre{padding: 0;}#sk-container-id-2 div.sk-toggleable {background-color: white;}#sk-container-id-2 label.sk-toggleable__label {cursor: pointer;display: block;width: 100%;margin-bottom: 0;padding: 0.3em;box-sizing: border-box;text-align: center;}#sk-container-id-2 label.sk-toggleable__label-arrow:before {content: \"▸\";float: left;margin-right: 0.25em;color: #696969;}#sk-container-id-2 label.sk-toggleable__label-arrow:hover:before {color: black;}#sk-container-id-2 div.sk-estimator:hover label.sk-toggleable__label-arrow:before {color: black;}#sk-container-id-2 div.sk-toggleable__content {max-height: 0;max-width: 0;overflow: hidden;text-align: left;background-color: #f0f8ff;}#sk-container-id-2 div.sk-toggleable__content pre {margin: 0.2em;color: black;border-radius: 0.25em;background-color: #f0f8ff;}#sk-container-id-2 input.sk-toggleable__control:checked~div.sk-toggleable__content {max-height: 200px;max-width: 100%;overflow: auto;}#sk-container-id-2 input.sk-toggleable__control:checked~label.sk-toggleable__label-arrow:before {content: \"▾\";}#sk-container-id-2 div.sk-estimator input.sk-toggleable__control:checked~label.sk-toggleable__label {background-color: #d4ebff;}#sk-container-id-2 div.sk-label input.sk-toggleable__control:checked~label.sk-toggleable__label {background-color: #d4ebff;}#sk-container-id-2 input.sk-hidden--visually {border: 0;clip: rect(1px 1px 1px 1px);clip: rect(1px, 1px, 1px, 1px);height: 1px;margin: -1px;overflow: hidden;padding: 0;position: absolute;width: 1px;}#sk-container-id-2 div.sk-estimator {font-family: monospace;background-color: #f0f8ff;border: 1px dotted black;border-radius: 0.25em;box-sizing: border-box;margin-bottom: 0.5em;}#sk-container-id-2 div.sk-estimator:hover {background-color: #d4ebff;}#sk-container-id-2 div.sk-parallel-item::after {content: \"\";width: 100%;border-bottom: 1px solid gray;flex-grow: 1;}#sk-container-id-2 div.sk-label:hover label.sk-toggleable__label {background-color: #d4ebff;}#sk-container-id-2 div.sk-serial::before {content: \"\";position: absolute;border-left: 1px solid gray;box-sizing: border-box;top: 0;bottom: 0;left: 50%;z-index: 0;}#sk-container-id-2 div.sk-serial {display: flex;flex-direction: column;align-items: center;background-color: white;padding-right: 0.2em;padding-left: 0.2em;position: relative;}#sk-container-id-2 div.sk-item {position: relative;z-index: 1;}#sk-container-id-2 div.sk-parallel {display: flex;align-items: stretch;justify-content: center;background-color: white;position: relative;}#sk-container-id-2 div.sk-item::before, #sk-container-id-2 div.sk-parallel-item::before {content: \"\";position: absolute;border-left: 1px solid gray;box-sizing: border-box;top: 0;bottom: 0;left: 50%;z-index: -1;}#sk-container-id-2 div.sk-parallel-item {display: flex;flex-direction: column;z-index: 1;position: relative;background-color: white;}#sk-container-id-2 div.sk-parallel-item:first-child::after {align-self: flex-end;width: 50%;}#sk-container-id-2 div.sk-parallel-item:last-child::after {align-self: flex-start;width: 50%;}#sk-container-id-2 div.sk-parallel-item:only-child::after {width: 0;}#sk-container-id-2 div.sk-dashed-wrapped {border: 1px dashed gray;margin: 0 0.4em 0.5em 0.4em;box-sizing: border-box;padding-bottom: 0.4em;background-color: white;}#sk-container-id-2 div.sk-label label {font-family: monospace;font-weight: bold;display: inline-block;line-height: 1.2em;}#sk-container-id-2 div.sk-label-container {text-align: center;}#sk-container-id-2 div.sk-container {/* jupyter's `normalize.less` sets `[hidden] { display: none; }` but bootstrap.min.css set `[hidden] { display: none !important; }` so we also need the `!important` here to be able to override the default hidden behavior on the sphinx rendered scikit-learn.org. See: https://github.com/scikit-learn/scikit-learn/issues/21755 */display: inline-block !important;position: relative;}#sk-container-id-2 div.sk-text-repr-fallback {display: none;}</style><div id=\"sk-container-id-2\" class=\"sk-top-container\"><div class=\"sk-text-repr-fallback\"><pre>RandomizedSearchCV(cv=6, estimator=SVC(), n_iter=20,\n",
       "                   param_distributions={&#x27;C&#x27;: [0.25, 0.5, 0.75, 1],\n",
       "                                        &#x27;kernel&#x27;: [&#x27;linear&#x27;]},\n",
       "                   verbose=True)</pre><b>In a Jupyter environment, please rerun this cell to show the HTML representation or trust the notebook. <br />On GitHub, the HTML representation is unable to render, please try loading this page with nbviewer.org.</b></div><div class=\"sk-container\" hidden><div class=\"sk-item sk-dashed-wrapped\"><div class=\"sk-label-container\"><div class=\"sk-label sk-toggleable\"><input class=\"sk-toggleable__control sk-hidden--visually\" id=\"sk-estimator-id-4\" type=\"checkbox\" ><label for=\"sk-estimator-id-4\" class=\"sk-toggleable__label sk-toggleable__label-arrow\">RandomizedSearchCV</label><div class=\"sk-toggleable__content\"><pre>RandomizedSearchCV(cv=6, estimator=SVC(), n_iter=20,\n",
       "                   param_distributions={&#x27;C&#x27;: [0.25, 0.5, 0.75, 1],\n",
       "                                        &#x27;kernel&#x27;: [&#x27;linear&#x27;]},\n",
       "                   verbose=True)</pre></div></div></div><div class=\"sk-parallel\"><div class=\"sk-parallel-item\"><div class=\"sk-item\"><div class=\"sk-label-container\"><div class=\"sk-label sk-toggleable\"><input class=\"sk-toggleable__control sk-hidden--visually\" id=\"sk-estimator-id-5\" type=\"checkbox\" ><label for=\"sk-estimator-id-5\" class=\"sk-toggleable__label sk-toggleable__label-arrow\">estimator: SVC</label><div class=\"sk-toggleable__content\"><pre>SVC()</pre></div></div></div><div class=\"sk-serial\"><div class=\"sk-item\"><div class=\"sk-estimator sk-toggleable\"><input class=\"sk-toggleable__control sk-hidden--visually\" id=\"sk-estimator-id-6\" type=\"checkbox\" ><label for=\"sk-estimator-id-6\" class=\"sk-toggleable__label sk-toggleable__label-arrow\">SVC</label><div class=\"sk-toggleable__content\"><pre>SVC()</pre></div></div></div></div></div></div></div></div></div></div>"
      ],
      "text/plain": [
       "RandomizedSearchCV(cv=6, estimator=SVC(), n_iter=20,\n",
       "                   param_distributions={'C': [0.25, 0.5, 0.75, 1],\n",
       "                                        'kernel': ['linear']},\n",
       "                   verbose=True)"
      ]
     },
     "execution_count": 36,
     "metadata": {},
     "output_type": "execute_result"
    }
   ],
   "source": [
    "rs_svc.fit(X,y)"
   ]
  },
  {
   "cell_type": "code",
   "execution_count": 37,
   "id": "4710fc45",
   "metadata": {},
   "outputs": [
    {
     "data": {
      "text/plain": [
       "0.8108799485625057"
      ]
     },
     "execution_count": 37,
     "metadata": {},
     "output_type": "execute_result"
    }
   ],
   "source": [
    "rs_svc.best_score_"
   ]
  },
  {
   "cell_type": "code",
   "execution_count": 38,
   "id": "54991382",
   "metadata": {},
   "outputs": [
    {
     "data": {
      "text/plain": [
       "{'kernel': 'linear', 'C': 0.25}"
      ]
     },
     "execution_count": 38,
     "metadata": {},
     "output_type": "execute_result"
    }
   ],
   "source": [
    "rs_svc.best_params_"
   ]
  },
  {
   "cell_type": "markdown",
   "id": "945f3274",
   "metadata": {},
   "source": [
    "**Random Forest Classifier**"
   ]
  },
  {
   "cell_type": "code",
   "execution_count": 39,
   "id": "2f4e4be7",
   "metadata": {},
   "outputs": [
    {
     "data": {
      "text/html": [
       "<style>#sk-container-id-3 {color: black;}#sk-container-id-3 pre{padding: 0;}#sk-container-id-3 div.sk-toggleable {background-color: white;}#sk-container-id-3 label.sk-toggleable__label {cursor: pointer;display: block;width: 100%;margin-bottom: 0;padding: 0.3em;box-sizing: border-box;text-align: center;}#sk-container-id-3 label.sk-toggleable__label-arrow:before {content: \"▸\";float: left;margin-right: 0.25em;color: #696969;}#sk-container-id-3 label.sk-toggleable__label-arrow:hover:before {color: black;}#sk-container-id-3 div.sk-estimator:hover label.sk-toggleable__label-arrow:before {color: black;}#sk-container-id-3 div.sk-toggleable__content {max-height: 0;max-width: 0;overflow: hidden;text-align: left;background-color: #f0f8ff;}#sk-container-id-3 div.sk-toggleable__content pre {margin: 0.2em;color: black;border-radius: 0.25em;background-color: #f0f8ff;}#sk-container-id-3 input.sk-toggleable__control:checked~div.sk-toggleable__content {max-height: 200px;max-width: 100%;overflow: auto;}#sk-container-id-3 input.sk-toggleable__control:checked~label.sk-toggleable__label-arrow:before {content: \"▾\";}#sk-container-id-3 div.sk-estimator input.sk-toggleable__control:checked~label.sk-toggleable__label {background-color: #d4ebff;}#sk-container-id-3 div.sk-label input.sk-toggleable__control:checked~label.sk-toggleable__label {background-color: #d4ebff;}#sk-container-id-3 input.sk-hidden--visually {border: 0;clip: rect(1px 1px 1px 1px);clip: rect(1px, 1px, 1px, 1px);height: 1px;margin: -1px;overflow: hidden;padding: 0;position: absolute;width: 1px;}#sk-container-id-3 div.sk-estimator {font-family: monospace;background-color: #f0f8ff;border: 1px dotted black;border-radius: 0.25em;box-sizing: border-box;margin-bottom: 0.5em;}#sk-container-id-3 div.sk-estimator:hover {background-color: #d4ebff;}#sk-container-id-3 div.sk-parallel-item::after {content: \"\";width: 100%;border-bottom: 1px solid gray;flex-grow: 1;}#sk-container-id-3 div.sk-label:hover label.sk-toggleable__label {background-color: #d4ebff;}#sk-container-id-3 div.sk-serial::before {content: \"\";position: absolute;border-left: 1px solid gray;box-sizing: border-box;top: 0;bottom: 0;left: 50%;z-index: 0;}#sk-container-id-3 div.sk-serial {display: flex;flex-direction: column;align-items: center;background-color: white;padding-right: 0.2em;padding-left: 0.2em;position: relative;}#sk-container-id-3 div.sk-item {position: relative;z-index: 1;}#sk-container-id-3 div.sk-parallel {display: flex;align-items: stretch;justify-content: center;background-color: white;position: relative;}#sk-container-id-3 div.sk-item::before, #sk-container-id-3 div.sk-parallel-item::before {content: \"\";position: absolute;border-left: 1px solid gray;box-sizing: border-box;top: 0;bottom: 0;left: 50%;z-index: -1;}#sk-container-id-3 div.sk-parallel-item {display: flex;flex-direction: column;z-index: 1;position: relative;background-color: white;}#sk-container-id-3 div.sk-parallel-item:first-child::after {align-self: flex-end;width: 50%;}#sk-container-id-3 div.sk-parallel-item:last-child::after {align-self: flex-start;width: 50%;}#sk-container-id-3 div.sk-parallel-item:only-child::after {width: 0;}#sk-container-id-3 div.sk-dashed-wrapped {border: 1px dashed gray;margin: 0 0.4em 0.5em 0.4em;box-sizing: border-box;padding-bottom: 0.4em;background-color: white;}#sk-container-id-3 div.sk-label label {font-family: monospace;font-weight: bold;display: inline-block;line-height: 1.2em;}#sk-container-id-3 div.sk-label-container {text-align: center;}#sk-container-id-3 div.sk-container {/* jupyter's `normalize.less` sets `[hidden] { display: none; }` but bootstrap.min.css set `[hidden] { display: none !important; }` so we also need the `!important` here to be able to override the default hidden behavior on the sphinx rendered scikit-learn.org. See: https://github.com/scikit-learn/scikit-learn/issues/21755 */display: inline-block !important;position: relative;}#sk-container-id-3 div.sk-text-repr-fallback {display: none;}</style><div id=\"sk-container-id-3\" class=\"sk-top-container\"><div class=\"sk-text-repr-fallback\"><pre>RandomForestClassifier()</pre><b>In a Jupyter environment, please rerun this cell to show the HTML representation or trust the notebook. <br />On GitHub, the HTML representation is unable to render, please try loading this page with nbviewer.org.</b></div><div class=\"sk-container\" hidden><div class=\"sk-item\"><div class=\"sk-estimator sk-toggleable\"><input class=\"sk-toggleable__control sk-hidden--visually\" id=\"sk-estimator-id-7\" type=\"checkbox\" checked><label for=\"sk-estimator-id-7\" class=\"sk-toggleable__label sk-toggleable__label-arrow\">RandomForestClassifier</label><div class=\"sk-toggleable__content\"><pre>RandomForestClassifier()</pre></div></div></div></div></div>"
      ],
      "text/plain": [
       "RandomForestClassifier()"
      ]
     },
     "execution_count": 39,
     "metadata": {},
     "output_type": "execute_result"
    }
   ],
   "source": [
    "RandomForestClassifier()"
   ]
  },
  {
   "cell_type": "code",
   "execution_count": 40,
   "id": "0c22513a",
   "metadata": {},
   "outputs": [],
   "source": [
    "rf_grid={'n_estimators':np.arange(10,1000,10),\n",
    "  'max_features':['auto','sqrt'],\n",
    " 'max_depth':[None,3,5,10,20,30],\n",
    " 'min_samples_split':[2,5,20,50,100],\n",
    " 'min_samples_leaf':[1,2,5,10]\n",
    " }"
   ]
  },
  {
   "cell_type": "code",
   "execution_count": 41,
   "id": "d1ce19ed",
   "metadata": {},
   "outputs": [
    {
     "name": "stdout",
     "output_type": "stream",
     "text": [
      "Fitting 5 folds for each of 20 candidates, totalling 100 fits\n"
     ]
    },
    {
     "name": "stderr",
     "output_type": "stream",
     "text": [
      "C:\\Users\\USER\\anaconda3\\Lib\\site-packages\\sklearn\\model_selection\\_validation.py:425: FitFailedWarning: \n",
      "50 fits failed out of a total of 100.\n",
      "The score on these train-test partitions for these parameters will be set to nan.\n",
      "If these failures are not expected, you can try to debug them by setting error_score='raise'.\n",
      "\n",
      "Below are more details about the failures:\n",
      "--------------------------------------------------------------------------------\n",
      "50 fits failed with the following error:\n",
      "Traceback (most recent call last):\n",
      "  File \"C:\\Users\\USER\\anaconda3\\Lib\\site-packages\\sklearn\\model_selection\\_validation.py\", line 732, in _fit_and_score\n",
      "    estimator.fit(X_train, y_train, **fit_params)\n",
      "  File \"C:\\Users\\USER\\anaconda3\\Lib\\site-packages\\sklearn\\base.py\", line 1144, in wrapper\n",
      "    estimator._validate_params()\n",
      "  File \"C:\\Users\\USER\\anaconda3\\Lib\\site-packages\\sklearn\\base.py\", line 637, in _validate_params\n",
      "    validate_parameter_constraints(\n",
      "  File \"C:\\Users\\USER\\anaconda3\\Lib\\site-packages\\sklearn\\utils\\_param_validation.py\", line 95, in validate_parameter_constraints\n",
      "    raise InvalidParameterError(\n",
      "sklearn.utils._param_validation.InvalidParameterError: The 'max_features' parameter of RandomForestClassifier must be an int in the range [1, inf), a float in the range (0.0, 1.0], a str among {'log2', 'sqrt'} or None. Got 'auto' instead.\n",
      "\n",
      "  warnings.warn(some_fits_failed_message, FitFailedWarning)\n",
      "C:\\Users\\USER\\anaconda3\\Lib\\site-packages\\sklearn\\model_selection\\_search.py:976: UserWarning: One or more of the test scores are non-finite: [       nan 0.8161189  0.82488317 0.88094308 0.8152532  0.83013483\n",
      " 0.82050486 0.83889144        nan        nan 0.81087106 0.82926147\n",
      "        nan        nan        nan 0.82488317        nan        nan\n",
      "        nan        nan]\n",
      "  warnings.warn(\n"
     ]
    },
    {
     "data": {
      "text/html": [
       "<style>#sk-container-id-4 {color: black;}#sk-container-id-4 pre{padding: 0;}#sk-container-id-4 div.sk-toggleable {background-color: white;}#sk-container-id-4 label.sk-toggleable__label {cursor: pointer;display: block;width: 100%;margin-bottom: 0;padding: 0.3em;box-sizing: border-box;text-align: center;}#sk-container-id-4 label.sk-toggleable__label-arrow:before {content: \"▸\";float: left;margin-right: 0.25em;color: #696969;}#sk-container-id-4 label.sk-toggleable__label-arrow:hover:before {color: black;}#sk-container-id-4 div.sk-estimator:hover label.sk-toggleable__label-arrow:before {color: black;}#sk-container-id-4 div.sk-toggleable__content {max-height: 0;max-width: 0;overflow: hidden;text-align: left;background-color: #f0f8ff;}#sk-container-id-4 div.sk-toggleable__content pre {margin: 0.2em;color: black;border-radius: 0.25em;background-color: #f0f8ff;}#sk-container-id-4 input.sk-toggleable__control:checked~div.sk-toggleable__content {max-height: 200px;max-width: 100%;overflow: auto;}#sk-container-id-4 input.sk-toggleable__control:checked~label.sk-toggleable__label-arrow:before {content: \"▾\";}#sk-container-id-4 div.sk-estimator input.sk-toggleable__control:checked~label.sk-toggleable__label {background-color: #d4ebff;}#sk-container-id-4 div.sk-label input.sk-toggleable__control:checked~label.sk-toggleable__label {background-color: #d4ebff;}#sk-container-id-4 input.sk-hidden--visually {border: 0;clip: rect(1px 1px 1px 1px);clip: rect(1px, 1px, 1px, 1px);height: 1px;margin: -1px;overflow: hidden;padding: 0;position: absolute;width: 1px;}#sk-container-id-4 div.sk-estimator {font-family: monospace;background-color: #f0f8ff;border: 1px dotted black;border-radius: 0.25em;box-sizing: border-box;margin-bottom: 0.5em;}#sk-container-id-4 div.sk-estimator:hover {background-color: #d4ebff;}#sk-container-id-4 div.sk-parallel-item::after {content: \"\";width: 100%;border-bottom: 1px solid gray;flex-grow: 1;}#sk-container-id-4 div.sk-label:hover label.sk-toggleable__label {background-color: #d4ebff;}#sk-container-id-4 div.sk-serial::before {content: \"\";position: absolute;border-left: 1px solid gray;box-sizing: border-box;top: 0;bottom: 0;left: 50%;z-index: 0;}#sk-container-id-4 div.sk-serial {display: flex;flex-direction: column;align-items: center;background-color: white;padding-right: 0.2em;padding-left: 0.2em;position: relative;}#sk-container-id-4 div.sk-item {position: relative;z-index: 1;}#sk-container-id-4 div.sk-parallel {display: flex;align-items: stretch;justify-content: center;background-color: white;position: relative;}#sk-container-id-4 div.sk-item::before, #sk-container-id-4 div.sk-parallel-item::before {content: \"\";position: absolute;border-left: 1px solid gray;box-sizing: border-box;top: 0;bottom: 0;left: 50%;z-index: -1;}#sk-container-id-4 div.sk-parallel-item {display: flex;flex-direction: column;z-index: 1;position: relative;background-color: white;}#sk-container-id-4 div.sk-parallel-item:first-child::after {align-self: flex-end;width: 50%;}#sk-container-id-4 div.sk-parallel-item:last-child::after {align-self: flex-start;width: 50%;}#sk-container-id-4 div.sk-parallel-item:only-child::after {width: 0;}#sk-container-id-4 div.sk-dashed-wrapped {border: 1px dashed gray;margin: 0 0.4em 0.5em 0.4em;box-sizing: border-box;padding-bottom: 0.4em;background-color: white;}#sk-container-id-4 div.sk-label label {font-family: monospace;font-weight: bold;display: inline-block;line-height: 1.2em;}#sk-container-id-4 div.sk-label-container {text-align: center;}#sk-container-id-4 div.sk-container {/* jupyter's `normalize.less` sets `[hidden] { display: none; }` but bootstrap.min.css set `[hidden] { display: none !important; }` so we also need the `!important` here to be able to override the default hidden behavior on the sphinx rendered scikit-learn.org. See: https://github.com/scikit-learn/scikit-learn/issues/21755 */display: inline-block !important;position: relative;}#sk-container-id-4 div.sk-text-repr-fallback {display: none;}</style><div id=\"sk-container-id-4\" class=\"sk-top-container\"><div class=\"sk-text-repr-fallback\"><pre>RandomizedSearchCV(cv=5, estimator=RandomForestClassifier(), n_iter=20,\n",
       "                   param_distributions={&#x27;max_depth&#x27;: [None, 3, 5, 10, 20, 30],\n",
       "                                        &#x27;max_features&#x27;: [&#x27;auto&#x27;, &#x27;sqrt&#x27;],\n",
       "                                        &#x27;min_samples_leaf&#x27;: [1, 2, 5, 10],\n",
       "                                        &#x27;min_samples_split&#x27;: [2, 5, 20, 50,\n",
       "                                                              100],\n",
       "                                        &#x27;n_estimators&#x27;: array([ 10,  20,  30,  40,  50,  60,  70,  80,  90, 100, 110, 120, 130,\n",
       "       140, 150, 160, 170, 180, 190, 200, 210, 220, 230, 240, 250, 260,\n",
       "       270, 280, 290, 300, 310, 320, 330, 340, 350, 360, 370, 380, 390,\n",
       "       400, 410, 420, 430, 440, 450, 460, 470, 480, 490, 500, 510, 520,\n",
       "       530, 540, 550, 560, 570, 580, 590, 600, 610, 620, 630, 640, 650,\n",
       "       660, 670, 680, 690, 700, 710, 720, 730, 740, 750, 760, 770, 780,\n",
       "       790, 800, 810, 820, 830, 840, 850, 860, 870, 880, 890, 900, 910,\n",
       "       920, 930, 940, 950, 960, 970, 980, 990])},\n",
       "                   verbose=True)</pre><b>In a Jupyter environment, please rerun this cell to show the HTML representation or trust the notebook. <br />On GitHub, the HTML representation is unable to render, please try loading this page with nbviewer.org.</b></div><div class=\"sk-container\" hidden><div class=\"sk-item sk-dashed-wrapped\"><div class=\"sk-label-container\"><div class=\"sk-label sk-toggleable\"><input class=\"sk-toggleable__control sk-hidden--visually\" id=\"sk-estimator-id-8\" type=\"checkbox\" ><label for=\"sk-estimator-id-8\" class=\"sk-toggleable__label sk-toggleable__label-arrow\">RandomizedSearchCV</label><div class=\"sk-toggleable__content\"><pre>RandomizedSearchCV(cv=5, estimator=RandomForestClassifier(), n_iter=20,\n",
       "                   param_distributions={&#x27;max_depth&#x27;: [None, 3, 5, 10, 20, 30],\n",
       "                                        &#x27;max_features&#x27;: [&#x27;auto&#x27;, &#x27;sqrt&#x27;],\n",
       "                                        &#x27;min_samples_leaf&#x27;: [1, 2, 5, 10],\n",
       "                                        &#x27;min_samples_split&#x27;: [2, 5, 20, 50,\n",
       "                                                              100],\n",
       "                                        &#x27;n_estimators&#x27;: array([ 10,  20,  30,  40,  50,  60,  70,  80,  90, 100, 110, 120, 130,\n",
       "       140, 150, 160, 170, 180, 190, 200, 210, 220, 230, 240, 250, 260,\n",
       "       270, 280, 290, 300, 310, 320, 330, 340, 350, 360, 370, 380, 390,\n",
       "       400, 410, 420, 430, 440, 450, 460, 470, 480, 490, 500, 510, 520,\n",
       "       530, 540, 550, 560, 570, 580, 590, 600, 610, 620, 630, 640, 650,\n",
       "       660, 670, 680, 690, 700, 710, 720, 730, 740, 750, 760, 770, 780,\n",
       "       790, 800, 810, 820, 830, 840, 850, 860, 870, 880, 890, 900, 910,\n",
       "       920, 930, 940, 950, 960, 970, 980, 990])},\n",
       "                   verbose=True)</pre></div></div></div><div class=\"sk-parallel\"><div class=\"sk-parallel-item\"><div class=\"sk-item\"><div class=\"sk-label-container\"><div class=\"sk-label sk-toggleable\"><input class=\"sk-toggleable__control sk-hidden--visually\" id=\"sk-estimator-id-9\" type=\"checkbox\" ><label for=\"sk-estimator-id-9\" class=\"sk-toggleable__label sk-toggleable__label-arrow\">estimator: RandomForestClassifier</label><div class=\"sk-toggleable__content\"><pre>RandomForestClassifier()</pre></div></div></div><div class=\"sk-serial\"><div class=\"sk-item\"><div class=\"sk-estimator sk-toggleable\"><input class=\"sk-toggleable__control sk-hidden--visually\" id=\"sk-estimator-id-10\" type=\"checkbox\" ><label for=\"sk-estimator-id-10\" class=\"sk-toggleable__label sk-toggleable__label-arrow\">RandomForestClassifier</label><div class=\"sk-toggleable__content\"><pre>RandomForestClassifier()</pre></div></div></div></div></div></div></div></div></div></div>"
      ],
      "text/plain": [
       "RandomizedSearchCV(cv=5, estimator=RandomForestClassifier(), n_iter=20,\n",
       "                   param_distributions={'max_depth': [None, 3, 5, 10, 20, 30],\n",
       "                                        'max_features': ['auto', 'sqrt'],\n",
       "                                        'min_samples_leaf': [1, 2, 5, 10],\n",
       "                                        'min_samples_split': [2, 5, 20, 50,\n",
       "                                                              100],\n",
       "                                        'n_estimators': array([ 10,  20,  30,  40,  50,  60,  70,  80,  90, 100, 110, 120, 130,\n",
       "       140, 150, 160, 170, 180, 190, 200, 210, 220, 230, 240, 250, 260,\n",
       "       270, 280, 290, 300, 310, 320, 330, 340, 350, 360, 370, 380, 390,\n",
       "       400, 410, 420, 430, 440, 450, 460, 470, 480, 490, 500, 510, 520,\n",
       "       530, 540, 550, 560, 570, 580, 590, 600, 610, 620, 630, 640, 650,\n",
       "       660, 670, 680, 690, 700, 710, 720, 730, 740, 750, 760, 770, 780,\n",
       "       790, 800, 810, 820, 830, 840, 850, 860, 870, 880, 890, 900, 910,\n",
       "       920, 930, 940, 950, 960, 970, 980, 990])},\n",
       "                   verbose=True)"
      ]
     },
     "execution_count": 41,
     "metadata": {},
     "output_type": "execute_result"
    }
   ],
   "source": [
    "rs_rf=RandomizedSearchCV(RandomForestClassifier(),\n",
    "                  param_distributions=rf_grid,\n",
    "                   cv=5,\n",
    "                   n_iter=20,\n",
    "                  verbose=True)\n",
    "rs_rf.fit(X,y)"
   ]
  },
  {
   "cell_type": "code",
   "execution_count": 42,
   "id": "5a653e90",
   "metadata": {},
   "outputs": [
    {
     "data": {
      "text/plain": [
       "0.8809430782195664"
      ]
     },
     "execution_count": 42,
     "metadata": {},
     "output_type": "execute_result"
    }
   ],
   "source": [
    "rs_rf.best_score_"
   ]
  },
  {
   "cell_type": "code",
   "execution_count": 43,
   "id": "46510944",
   "metadata": {},
   "outputs": [
    {
     "data": {
      "text/plain": [
       "{'n_estimators': 910,\n",
       " 'min_samples_split': 5,\n",
       " 'min_samples_leaf': 1,\n",
       " 'max_features': 'sqrt',\n",
       " 'max_depth': 10}"
      ]
     },
     "execution_count": 43,
     "metadata": {},
     "output_type": "execute_result"
    }
   ],
   "source": [
    "rs_rf.best_params_"
   ]
  },
  {
   "cell_type": "markdown",
   "id": "e9557ab8",
   "metadata": {},
   "source": [
    "**Save the Model**"
   ]
  },
  {
   "cell_type": "code",
   "execution_count": 44,
   "id": "cd335454",
   "metadata": {},
   "outputs": [],
   "source": [
    "X = bank_df2.drop('Loan_Status',axis=1)\n",
    "y = bank_df2['Loan_Status']"
   ]
  },
  {
   "cell_type": "code",
   "execution_count": 45,
   "id": "e8f9522b",
   "metadata": {},
   "outputs": [
    {
     "data": {
      "text/html": [
       "<style>#sk-container-id-5 {color: black;}#sk-container-id-5 pre{padding: 0;}#sk-container-id-5 div.sk-toggleable {background-color: white;}#sk-container-id-5 label.sk-toggleable__label {cursor: pointer;display: block;width: 100%;margin-bottom: 0;padding: 0.3em;box-sizing: border-box;text-align: center;}#sk-container-id-5 label.sk-toggleable__label-arrow:before {content: \"▸\";float: left;margin-right: 0.25em;color: #696969;}#sk-container-id-5 label.sk-toggleable__label-arrow:hover:before {color: black;}#sk-container-id-5 div.sk-estimator:hover label.sk-toggleable__label-arrow:before {color: black;}#sk-container-id-5 div.sk-toggleable__content {max-height: 0;max-width: 0;overflow: hidden;text-align: left;background-color: #f0f8ff;}#sk-container-id-5 div.sk-toggleable__content pre {margin: 0.2em;color: black;border-radius: 0.25em;background-color: #f0f8ff;}#sk-container-id-5 input.sk-toggleable__control:checked~div.sk-toggleable__content {max-height: 200px;max-width: 100%;overflow: auto;}#sk-container-id-5 input.sk-toggleable__control:checked~label.sk-toggleable__label-arrow:before {content: \"▾\";}#sk-container-id-5 div.sk-estimator input.sk-toggleable__control:checked~label.sk-toggleable__label {background-color: #d4ebff;}#sk-container-id-5 div.sk-label input.sk-toggleable__control:checked~label.sk-toggleable__label {background-color: #d4ebff;}#sk-container-id-5 input.sk-hidden--visually {border: 0;clip: rect(1px 1px 1px 1px);clip: rect(1px, 1px, 1px, 1px);height: 1px;margin: -1px;overflow: hidden;padding: 0;position: absolute;width: 1px;}#sk-container-id-5 div.sk-estimator {font-family: monospace;background-color: #f0f8ff;border: 1px dotted black;border-radius: 0.25em;box-sizing: border-box;margin-bottom: 0.5em;}#sk-container-id-5 div.sk-estimator:hover {background-color: #d4ebff;}#sk-container-id-5 div.sk-parallel-item::after {content: \"\";width: 100%;border-bottom: 1px solid gray;flex-grow: 1;}#sk-container-id-5 div.sk-label:hover label.sk-toggleable__label {background-color: #d4ebff;}#sk-container-id-5 div.sk-serial::before {content: \"\";position: absolute;border-left: 1px solid gray;box-sizing: border-box;top: 0;bottom: 0;left: 50%;z-index: 0;}#sk-container-id-5 div.sk-serial {display: flex;flex-direction: column;align-items: center;background-color: white;padding-right: 0.2em;padding-left: 0.2em;position: relative;}#sk-container-id-5 div.sk-item {position: relative;z-index: 1;}#sk-container-id-5 div.sk-parallel {display: flex;align-items: stretch;justify-content: center;background-color: white;position: relative;}#sk-container-id-5 div.sk-item::before, #sk-container-id-5 div.sk-parallel-item::before {content: \"\";position: absolute;border-left: 1px solid gray;box-sizing: border-box;top: 0;bottom: 0;left: 50%;z-index: -1;}#sk-container-id-5 div.sk-parallel-item {display: flex;flex-direction: column;z-index: 1;position: relative;background-color: white;}#sk-container-id-5 div.sk-parallel-item:first-child::after {align-self: flex-end;width: 50%;}#sk-container-id-5 div.sk-parallel-item:last-child::after {align-self: flex-start;width: 50%;}#sk-container-id-5 div.sk-parallel-item:only-child::after {width: 0;}#sk-container-id-5 div.sk-dashed-wrapped {border: 1px dashed gray;margin: 0 0.4em 0.5em 0.4em;box-sizing: border-box;padding-bottom: 0.4em;background-color: white;}#sk-container-id-5 div.sk-label label {font-family: monospace;font-weight: bold;display: inline-block;line-height: 1.2em;}#sk-container-id-5 div.sk-label-container {text-align: center;}#sk-container-id-5 div.sk-container {/* jupyter's `normalize.less` sets `[hidden] { display: none; }` but bootstrap.min.css set `[hidden] { display: none !important; }` so we also need the `!important` here to be able to override the default hidden behavior on the sphinx rendered scikit-learn.org. See: https://github.com/scikit-learn/scikit-learn/issues/21755 */display: inline-block !important;position: relative;}#sk-container-id-5 div.sk-text-repr-fallback {display: none;}</style><div id=\"sk-container-id-5\" class=\"sk-top-container\"><div class=\"sk-text-repr-fallback\"><pre>RandomForestClassifier(max_depth=5, min_samples_leaf=5, min_samples_split=5,\n",
       "                       n_estimators=270)</pre><b>In a Jupyter environment, please rerun this cell to show the HTML representation or trust the notebook. <br />On GitHub, the HTML representation is unable to render, please try loading this page with nbviewer.org.</b></div><div class=\"sk-container\" hidden><div class=\"sk-item\"><div class=\"sk-estimator sk-toggleable\"><input class=\"sk-toggleable__control sk-hidden--visually\" id=\"sk-estimator-id-11\" type=\"checkbox\" checked><label for=\"sk-estimator-id-11\" class=\"sk-toggleable__label sk-toggleable__label-arrow\">RandomForestClassifier</label><div class=\"sk-toggleable__content\"><pre>RandomForestClassifier(max_depth=5, min_samples_leaf=5, min_samples_split=5,\n",
       "                       n_estimators=270)</pre></div></div></div></div></div>"
      ],
      "text/plain": [
       "RandomForestClassifier(max_depth=5, min_samples_leaf=5, min_samples_split=5,\n",
       "                       n_estimators=270)"
      ]
     },
     "execution_count": 45,
     "metadata": {},
     "output_type": "execute_result"
    }
   ],
   "source": [
    "rf = RandomForestClassifier(n_estimators=270,\n",
    " min_samples_split=5,\n",
    " min_samples_leaf=5,\n",
    " max_features='sqrt',\n",
    " max_depth=5)\n",
    "\n",
    "\n",
    "rf.fit(X,y)"
   ]
  },
  {
   "cell_type": "code",
   "execution_count": 46,
   "id": "a74fdaed",
   "metadata": {},
   "outputs": [],
   "source": [
    "import joblib"
   ]
  },
  {
   "cell_type": "code",
   "execution_count": 47,
   "id": "6849807e",
   "metadata": {},
   "outputs": [
    {
     "data": {
      "text/plain": [
       "['loan_status_predict']"
      ]
     },
     "execution_count": 47,
     "metadata": {},
     "output_type": "execute_result"
    }
   ],
   "source": [
    "joblib.dump(rf,'loan_status_predict')"
   ]
  },
  {
   "cell_type": "code",
   "execution_count": 48,
   "id": "85065b75",
   "metadata": {},
   "outputs": [],
   "source": [
    "model = joblib.load('loan_status_predict')"
   ]
  },
  {
   "cell_type": "code",
   "execution_count": 49,
   "id": "69205830",
   "metadata": {},
   "outputs": [],
   "source": [
    "import pandas as pd\n",
    "test_df = pd.DataFrame({\n",
    "    'Gender':1,\n",
    "    'Married':1,\n",
    "    'Dependents':1,\n",
    "    'Education':1,\n",
    "    'Self_Employed':0,\n",
    "    'ApplicantIncome':4024,\n",
    "    'CoapplicantIncome':0.0,\n",
    "    'LoanAmount':45,\n",
    "    'Loan_Amount_Term':180,\n",
    "    'Credit_History':1,\n",
    "    'Property_Area':3\n",
    "},index=[0])"
   ]
  },
  {
   "cell_type": "code",
   "execution_count": 50,
   "id": "b2201ddb",
   "metadata": {},
   "outputs": [
    {
     "data": {
      "text/html": [
       "<div>\n",
       "<style scoped>\n",
       "    .dataframe tbody tr th:only-of-type {\n",
       "        vertical-align: middle;\n",
       "    }\n",
       "\n",
       "    .dataframe tbody tr th {\n",
       "        vertical-align: top;\n",
       "    }\n",
       "\n",
       "    .dataframe thead th {\n",
       "        text-align: right;\n",
       "    }\n",
       "</style>\n",
       "<table border=\"1\" class=\"dataframe\">\n",
       "  <thead>\n",
       "    <tr style=\"text-align: right;\">\n",
       "      <th></th>\n",
       "      <th>Gender</th>\n",
       "      <th>Married</th>\n",
       "      <th>Dependents</th>\n",
       "      <th>Education</th>\n",
       "      <th>Self_Employed</th>\n",
       "      <th>ApplicantIncome</th>\n",
       "      <th>CoapplicantIncome</th>\n",
       "      <th>LoanAmount</th>\n",
       "      <th>Loan_Amount_Term</th>\n",
       "      <th>Credit_History</th>\n",
       "      <th>Property_Area</th>\n",
       "    </tr>\n",
       "  </thead>\n",
       "  <tbody>\n",
       "    <tr>\n",
       "      <th>0</th>\n",
       "      <td>1</td>\n",
       "      <td>1</td>\n",
       "      <td>1</td>\n",
       "      <td>1</td>\n",
       "      <td>0</td>\n",
       "      <td>4024</td>\n",
       "      <td>0.0</td>\n",
       "      <td>45</td>\n",
       "      <td>180</td>\n",
       "      <td>1</td>\n",
       "      <td>3</td>\n",
       "    </tr>\n",
       "  </tbody>\n",
       "</table>\n",
       "</div>"
      ],
      "text/plain": [
       "   Gender  Married  Dependents  Education  Self_Employed  ApplicantIncome  \\\n",
       "0       1        1           1          1              0             4024   \n",
       "\n",
       "   CoapplicantIncome  LoanAmount  Loan_Amount_Term  Credit_History  \\\n",
       "0                0.0          45               180               1   \n",
       "\n",
       "   Property_Area  \n",
       "0              3  "
      ]
     },
     "execution_count": 50,
     "metadata": {},
     "output_type": "execute_result"
    }
   ],
   "source": [
    "test_df"
   ]
  },
  {
   "cell_type": "code",
   "execution_count": 51,
   "id": "8adc17e5",
   "metadata": {},
   "outputs": [],
   "source": [
    "result = model.predict(test_df)"
   ]
  },
  {
   "cell_type": "code",
   "execution_count": 52,
   "id": "76fda785",
   "metadata": {},
   "outputs": [
    {
     "name": "stdout",
     "output_type": "stream",
     "text": [
      "Loan Approved\n"
     ]
    }
   ],
   "source": [
    "if result==1:\n",
    "    print(\"Loan Approved\")\n",
    "else:\n",
    "    print(\"Loan Not Approved\")"
   ]
  },
  {
   "cell_type": "markdown",
   "id": "06603501",
   "metadata": {},
   "source": [
    "# GUI"
   ]
  },
  {
   "cell_type": "code",
   "execution_count": 53,
   "id": "2b995e80",
   "metadata": {},
   "outputs": [],
   "source": [
    "from tkinter import *\n",
    "import joblib\n",
    "import pandas as pd"
   ]
  },
  {
   "cell_type": "code",
   "execution_count": null,
   "id": "d79e2532",
   "metadata": {},
   "outputs": [],
   "source": [
    "def show_entry():\n",
    "    \n",
    "    p1 = float(e1.get())\n",
    "    p2 = float(e2.get())\n",
    "    p3 = float(e3.get())\n",
    "    p4 = float(e4.get())\n",
    "    p5 = float(e5.get())\n",
    "    p6 = float(e6.get())\n",
    "    p7 = float(e7.get())\n",
    "    p8 = float(e8.get())\n",
    "    p9 = float(e9.get())\n",
    "    p10 = float(e10.get())\n",
    "    p11 = float(e11.get())\n",
    "    \n",
    "    model = joblib.load('loan_status_predict')\n",
    "    df = pd.DataFrame({\n",
    "    'Gender':p1,\n",
    "    'Married':p2,\n",
    "    'Dependents':p3,\n",
    "    'Education':p4,\n",
    "    'Self_Employed':p5,\n",
    "    'ApplicantIncome':p6,\n",
    "    'CoapplicantIncome':p7,\n",
    "    'LoanAmount':p8,\n",
    "    'Loan_Amount_Term':p9,\n",
    "    'Credit_History':p10,\n",
    "    'Property_Area':p11\n",
    "},index=[0])\n",
    "    result = model.predict(df)\n",
    "    \n",
    "    if result == 1:\n",
    "        Label(master, text=\"Loan approved\").grid(row=31)\n",
    "    else:\n",
    "        Label(master, text=\"Loan Not Approved\").grid(row=31)\n",
    "        \n",
    "    \n",
    "master =Tk()\n",
    "master.title(\"Loan Status Prediction Using Machine Learning\")\n",
    "label = Label(master,text = \"Loan Status Prediction\",bg = \"black\",\n",
    "               fg = \"white\").grid(row=0,columnspan=2)\n",
    "\n",
    "Label(master,text = \"Gender [1:Male ,0:Female]\").grid(row=1)\n",
    "Label(master,text = \"Married [1:Yes,0:No]\").grid(row=2)\n",
    "Label(master,text = \"Dependents [1,2,3,4]\").grid(row=3)\n",
    "Label(master,text = \"Education\").grid(row=4)\n",
    "Label(master,text = \"Self_Employed\").grid(row=5)\n",
    "Label(master,text = \"ApplicantIncome\").grid(row=6)\n",
    "Label(master,text = \"CoapplicantIncome\").grid(row=7)\n",
    "Label(master,text = \"LoanAmount\").grid(row=8)\n",
    "Label(master,text = \"Loan_Amount_Term\").grid(row=9)\n",
    "Label(master,text = \"Credit_History\").grid(row=10)\n",
    "Label(master,text = \"Property_Area\").grid(row=11)\n",
    "\n",
    "\n",
    "e1 = Entry(master)\n",
    "e2 = Entry(master)\n",
    "e3 = Entry(master)\n",
    "e4 = Entry(master)\n",
    "e5 = Entry(master)\n",
    "e6 = Entry(master)\n",
    "e7 = Entry(master)\n",
    "e8 = Entry(master)\n",
    "e9 = Entry(master)\n",
    "e10 = Entry(master)\n",
    "e11 = Entry(master)\n",
    "\n",
    "\n",
    "e1.grid(row=1,column=1)\n",
    "e2.grid(row=2,column=1)\n",
    "e3.grid(row=3,column=1)\n",
    "e4.grid(row=4,column=1)\n",
    "e5.grid(row=5,column=1)\n",
    "e6.grid(row=6,column=1)\n",
    "e7.grid(row=7,column=1)\n",
    "e8.grid(row=8,column=1)\n",
    "e9.grid(row=9,column=1)\n",
    "e10.grid(row=10,column=1)\n",
    "e11.grid(row=11,column=1)\n",
    "\n",
    "Button(master,text=\"Predict\",command=show_entry).grid()\n",
    "\n",
    "mainloop()"
   ]
  },
  {
   "cell_type": "code",
   "execution_count": null,
   "id": "d0397569",
   "metadata": {},
   "outputs": [],
   "source": []
  }
 ],
 "metadata": {
  "kernelspec": {
   "display_name": "Python 3 (ipykernel)",
   "language": "python",
   "name": "python3"
  },
  "language_info": {
   "codemirror_mode": {
    "name": "ipython",
    "version": 3
   },
   "file_extension": ".py",
   "mimetype": "text/x-python",
   "name": "python",
   "nbconvert_exporter": "python",
   "pygments_lexer": "ipython3",
   "version": "3.11.5"
  }
 },
 "nbformat": 4,
 "nbformat_minor": 5
}
